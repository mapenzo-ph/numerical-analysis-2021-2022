{
  "cells": [
    {
      "cell_type": "code",
      "execution_count": 2,
      "id": "3fe94688",
      "metadata": {
        "id": "3fe94688"
      },
      "outputs": [],
      "source": [
        "%matplotlib inline\n",
        "from numpy import *\n",
        "from matplotlib.pyplot import *"
      ]
    },
    {
      "cell_type": "markdown",
      "id": "8184faab",
      "metadata": {
        "id": "8184faab"
      },
      "source": [
        "Consider the following one-dimensional PDE:\n",
        "$$\n",
        "-u_{xx}(x) = f(x)\\quad\\mathrm{ in }\\ \\Omega = (0, \\pi)\n",
        "$$\n",
        "$$\n",
        "u(x) = 0, \\quad\\mathrm{ on }\\ \\partial\\Omega = \\{0, \\pi\\}\n",
        "$$\n",
        "\n",
        "Given the following $4^{th}$ order finite difference approximation of the second order derivative:\n",
        "\n",
        "$$u_{xx}(x_i) = \\frac{-u_{i-2}+16u_{i-1}-30u_i+16u_{i+1}-u_{i+2}}{12h^2}$$\n",
        "\n",
        "Implement a function that given the domain interval, the forcing function, the number of discretization points, the boundary conditions, returns the matrix $A$ and the the right hand side $b$."
      ]
    },
    {
      "cell_type": "code",
      "execution_count": 198,
      "id": "1c562f13",
      "metadata": {
        "id": "1c562f13"
      },
      "outputs": [],
      "source": [
        "def finDif(omega,f,n,bc):\n",
        "    width = omega[-1] - omega[0]\n",
        "    h = width/(n-1)\n",
        "\n",
        "    # constructing A\n",
        "    d0 = 30*ones((n,))  # main diagonal\n",
        "    d1 = -16*ones((n-1,)) # first diagonal\n",
        "    d2 = ones((n-2,)) # second diagonal\n",
        "    A = (\n",
        "        diag(d0, 0) + \n",
        "        diag(d1, -1) + diag(d1, +1) + \n",
        "        diag(d2, -2) + diag(d2, +2)\n",
        "    )\n",
        "    A /= 12.*h*h\n",
        "\n",
        "    # constructing b\n",
        "    x = linspace(omega[0], omega[-1], n)\n",
        "    b = f(x)\n",
        "    \n",
        "    # boundary conditions on first row\n",
        "    A[0,:] = 0\n",
        "    A[:,0] = 0\n",
        "    A[0,0] = 1\n",
        "    b[0] = bc[0]\n",
        "\n",
        "    # boundary conditions on last row\n",
        "    A[-1,:] = 0\n",
        "    A[:,-1] = 0\n",
        "    A[-1,-1] = 1\n",
        "    b[-1] = bc[-1]\n",
        "\n",
        "    return A, b"
      ]
    },
    {
      "cell_type": "markdown",
      "id": "c21bb21e",
      "metadata": {
        "id": "c21bb21e"
      },
      "source": [
        "Call the function using:"
      ]
    },
    {
      "cell_type": "code",
      "execution_count": 199,
      "id": "23af8831",
      "metadata": {
        "id": "23af8831"
      },
      "outputs": [],
      "source": [
        "omega = [0,pi]\n",
        "f = lambda x : sin(x)\n",
        "n = 100\n",
        "bc = [0,0]\n",
        "A, b = finDif(omega, f, n, bc)\n",
        "\n",
        "# exact solution for comparison\n",
        "x = linspace(omega[0], omega[-1], n)\n",
        "u_exact = sin(x)"
      ]
    },
    {
      "cell_type": "markdown",
      "id": "4f8a7c6f",
      "metadata": {
        "id": "4f8a7c6f"
      },
      "source": [
        "Implement two functions that compute the LU and the Cholesky factorization of the system matrix $A$"
      ]
    },
    {
      "cell_type": "code",
      "execution_count": 145,
      "id": "47468a37",
      "metadata": {
        "id": "47468a37"
      },
      "outputs": [],
      "source": [
        "def LU(A):\n",
        "    A = A.copy()\n",
        "    N = len(A)\n",
        "    for k in range(N-1):\n",
        "        # check for null pivots\n",
        "        if (abs(A[k,k]) < 1e-15):\n",
        "            raise RuntimeError(\"Null pivot\")\n",
        "        \n",
        "        # divide rows' first elements by pivot\n",
        "        A[k+1:N,k] /= A[k,k]\n",
        "        \n",
        "        # update rows\n",
        "        for j in range(k+1,N):\n",
        "            A[k+1:N,j] -= A[k+1:N,k]*A[k,j]\n",
        "    \n",
        "    # get L\n",
        "    L=tril(A)\n",
        "    # set L diagonal to ones\n",
        "    for i in range(N):\n",
        "        L[i,i]=1.0\n",
        "    \n",
        "    # get U\n",
        "    U = triu(A)\n",
        "\n",
        "    return L, U\n",
        "\n",
        "L, U = LU(A)"
      ]
    },
    {
      "cell_type": "code",
      "execution_count": 134,
      "id": "193ebfed",
      "metadata": {
        "id": "193ebfed"
      },
      "outputs": [],
      "source": [
        "def cholesky(A):\n",
        "    A = A.copy()\n",
        "    N = len(A)\n",
        "    for k in range(N-1):\n",
        "        # get diagonal element (pivot)\n",
        "        A[k,k] = sqrt(A[k,k])\n",
        "        \n",
        "        # divide rows' first elements by pivot\n",
        "        A[k+1:N,k] = A[k+1:N,k]/A[k,k]\n",
        "        \n",
        "        # update rows and cols\n",
        "        for j in range(k+1,N):\n",
        "            A[j:N,j] = A[j:N,j] - A[j:N,k]*A[j,k]\n",
        "        \n",
        "    A[-1,-1] = sqrt(A[-1,-1])\n",
        "    L=tril(A)\n",
        "    return L, L.transpose()\n",
        "\n",
        "HT, H = cholesky(A)"
      ]
    },
    {
      "cell_type": "markdown",
      "id": "41eb8436",
      "metadata": {
        "id": "41eb8436"
      },
      "source": [
        "Implement forward and backward substitution functions to exploit the developed factorization methods to solve the derived linear system of equations."
      ]
    },
    {
      "cell_type": "code",
      "execution_count": 135,
      "id": "019cf0df",
      "metadata": {
        "id": "019cf0df"
      },
      "outputs": [],
      "source": [
        "def L_solve(L,rhs):\n",
        "    x = zeros_like(rhs)\n",
        "    N = len(L)\n",
        "    \n",
        "    # forward substitution\n",
        "    x[0] = rhs[0]/L[0,0]\n",
        "    for i in range(1,N):\n",
        "        x[i] = (rhs[i] - dot(L[i, 0:i], x[0:i]))/L[i,i]\n",
        "        \n",
        "    return x"
      ]
    },
    {
      "cell_type": "code",
      "execution_count": 136,
      "id": "26ce17c4",
      "metadata": {
        "id": "26ce17c4"
      },
      "outputs": [],
      "source": [
        "def U_solve(U,rhs):\n",
        "    x = zeros_like(rhs)\n",
        "    N = len(U)\n",
        "    \n",
        "    # backward substitution\n",
        "    x[-1] = rhs[-1]/L[-1,-1]\n",
        "    for i in reversed(range(N-1)):\n",
        "        x[i] = (rhs[i] - dot(U[i, i+1:N], x[i+1:N]))/U[i,i]\n",
        "\n",
        "    return x"
      ]
    },
    {
      "cell_type": "markdown",
      "id": "08ac9ba1",
      "metadata": {
        "id": "08ac9ba1"
      },
      "source": [
        "Solve the derived linear system using the implemented functions and plot the computed solution:"
      ]
    },
    {
      "cell_type": "code",
      "execution_count": 137,
      "id": "7c1de4f3",
      "metadata": {
        "id": "7c1de4f3",
        "colab": {
          "base_uri": "https://localhost:8080/",
          "height": 265
        },
        "outputId": "a82d7034-aa97-4f92-a7a0-426e11022eca"
      },
      "outputs": [
        {
          "output_type": "display_data",
          "data": {
            "image/png": "[encoded data removed]",
            "text/plain": [
              "<Figure size 432x288 with 1 Axes>"
            ]
          },
          "metadata": {
            "needs_background": "light"
          }
        }
      ],
      "source": [
        "# using LU factorization\n",
        "w_lu = L_solve(L, b)\n",
        "u_lu = U_solve(U,w_lu)\n",
        "\n",
        "# plot solution\n",
        "_ = plot(x,u_lu,'o-')\n",
        "_ = plot(x,u_exact)"
      ]
    },
    {
      "cell_type": "code",
      "source": [
        "# using Cholesky factorization\n",
        "w_ch = L_solve(HT,b)\n",
        "u_ch = U_solve(H,w_ch)\n",
        "\n",
        "# plot solution\n",
        "_ = plot(x,u_ch,'o-')\n",
        "_ = plot(x,u_exact)"
      ],
      "metadata": {
        "colab": {
          "base_uri": "https://localhost:8080/",
          "height": 265
        },
        "id": "6KVWfRXoVHRB",
        "outputId": "bdddccc8-e7d4-490d-e755-ab30b5b9d3ea"
      },
      "id": "6KVWfRXoVHRB",
      "execution_count": 138,
      "outputs": [
        {
          "output_type": "display_data",
          "data": {
            "image/png": "[encoded data removed]",
            "text/plain": [
              "<Figure size 432x288 with 1 Axes>"
            ]
          },
          "metadata": {
            "needs_background": "light"
          }
        }
      ]
    },
    {
      "cell_type": "markdown",
      "id": "62cdfe65",
      "metadata": {
        "id": "62cdfe65"
      },
      "source": [
        "Considering the new domain $\\Omega = (0,1)$ and the forcing term $f(x) = x(1-x)$ with B.C. $u(x) = 0$, on $\\partial \\Omega = {0,1}$ produce a plot and a table where you show the decay of the error w.r.t. the number of grid points.\n",
        "(The analytical solution for the above problems is $u_{an} = \\frac{x^4}{12} - \\frac{x^3}{6} + \\frac{x}{12}$)"
      ]
    },
    {
      "cell_type": "code",
      "source": [
        "def get_errors(omega, f, bc, points):\n",
        "    errors = []\n",
        "    for i in range(len(points)):\n",
        "        n = points[i]\n",
        "        # exact solution\n",
        "        x = linspace(omega[0], omega[1], n)\n",
        "        u_exact = x**4/12. - x**3/6. + x/12.\n",
        "\n",
        "        # direct solution\n",
        "        An, bn = finDif(omega, f, n, bc)\n",
        "        Ln, Un = LU(An)\n",
        "        wn = L_solve(Ln, bn)\n",
        "        un = U_solve(Un, wn)\n",
        "\n",
        "        # get error\n",
        "        err = linalg.norm(u_exact - un, 2)\n",
        "        errors.append(err)\n",
        "    \n",
        "    return errors    "
      ],
      "metadata": {
        "id": "JWg4qFKuW5su"
      },
      "id": "JWg4qFKuW5su",
      "execution_count": 139,
      "outputs": []
    },
    {
      "cell_type": "code",
      "source": [
        "omega = [0,1]\n",
        "bc = [0,0]\n",
        "f = lambda x: x*(1-x)\n",
        "points = list(range(5, 506, 10))\n",
        "\n",
        "# plot\n",
        "errors = get_errors(omega, f, bc, points)\n",
        "_ = semilogy(points, errors, 'o-')"
      ],
      "metadata": {
        "colab": {
          "base_uri": "https://localhost:8080/",
          "height": 265
        },
        "id": "-vLG8tZDZp8t",
        "outputId": "e76b8ba9-4d5e-4ed4-c16f-a04a1e577fa4"
      },
      "id": "-vLG8tZDZp8t",
      "execution_count": 140,
      "outputs": [
        {
          "output_type": "display_data",
          "data": {
            "image/png": "[encoded data removed]",
            "text/plain": [
              "<Figure size 432x288 with 1 Axes>"
            ]
          },
          "metadata": {
            "needs_background": "light"
          }
        }
      ]
    },
    {
      "cell_type": "markdown",
      "id": "c8d5002f",
      "metadata": {
        "id": "c8d5002f"
      },
      "source": [
        "Exploit the derived LU factorizations to compute the condition number of the system's matrix $A$ using the original problem formulation."
      ]
    },
    {
      "cell_type": "code",
      "execution_count": null,
      "id": "c25fc1fe",
      "metadata": {
        "id": "c25fc1fe"
      },
      "outputs": [],
      "source": [
        "def condNumb(A):\n",
        "    pass #TODO\n",
        "    return condNu"
      ]
    },
    {
      "cell_type": "markdown",
      "id": "2728b49a",
      "metadata": {
        "id": "2728b49a"
      },
      "source": [
        "Implement a preconditioned Conjugant Gradient method to solve the original linear system of equations using an iterative method:"
      ]
    },
    {
      "cell_type": "code",
      "execution_count": 141,
      "id": "62b83aee",
      "metadata": {
        "id": "62b83aee",
        "colab": {
          "base_uri": "https://localhost:8080/",
          "height": 300
        },
        "outputId": "69451a7b-bd55-44bc-f49f-d692d261947a"
      },
      "outputs": [
        {
          "output_type": "stream",
          "name": "stdout",
          "text": [
            "iterations = 4\n",
            "tolerance = 7.258294167714642e-16\n"
          ]
        },
        {
          "output_type": "display_data",
          "data": {
            "image/png": "[encoded data removed]",
            "text/plain": [
              "<Figure size 432x288 with 1 Axes>"
            ]
          },
          "metadata": {
            "needs_background": "light"
          }
        }
      ],
      "source": [
        "def conjugate_gradient(A, b, P, nmax=len(A), eps=1e-10):\n",
        "    N = len(A)\n",
        "    x = zeros_like(b)\n",
        "    r = b - dot(A,x)\n",
        "    rho_old = 1.\n",
        "    p_old = zeros_like(b)\n",
        "    tol = eps + 1.0\n",
        "    it = 0\n",
        "    while (it < nmax and tol > eps):\n",
        "        it += 1\n",
        "        z = linalg.solve(P,r)\n",
        "        rho = dot(r,z)\n",
        "        if (it > 1):\n",
        "            beta = rho/rho_old\n",
        "            p = z + beta*p_old\n",
        "        else:\n",
        "            p = z\n",
        "        q = dot(A,p)\n",
        "        alpha = rho/dot(p,q)\n",
        "        \n",
        "        x += p*alpha\n",
        "        r -= q*alpha\n",
        "        p_old = p\n",
        "        rho_old = rho\n",
        "        tol = linalg.norm(r,2)\n",
        "\n",
        "    print(\"iterations =\",it)\n",
        "    print(\"tolerance =\", tol)\n",
        "    return x\n",
        "\n",
        "u_cg = conjugate_gradient(A, b, identity(len(A)))\n",
        "_ = plot(x, u_cg, 'o-')\n",
        "_ = plot(x, u_exact)"
      ]
    },
    {
      "cell_type": "markdown",
      "id": "8a4cfc02",
      "metadata": {
        "id": "8a4cfc02"
      },
      "source": [
        "Consider the following time dependent variation of the PDE starting from the orginal problem formulation:\n",
        "$$\n",
        "u'(t)-u_{xx} = \\alpha(t)f(x)\n",
        "$$\n",
        "\n",
        "for $t\\in [0,T]$, with $\\alpha(t) = \\cos(t)$ and $T = 6\\pi$\n",
        "\n",
        "Use the same finite difference scheme to derive the semi-discrete formulation and solve it using a forward Euler's method.\n",
        "\n",
        "Plot the time dependent solution solution at $x = \\pi/2$, $x=1$, \n",
        "$x=\\pi$\n"
      ]
    },
    {
      "cell_type": "code",
      "source": [
        "# input data\n",
        "t0 = 0\n",
        "tf = 6*pi\n",
        "alpha = lambda t: cos(t)\n",
        "u0 = zeros((n,))"
      ],
      "metadata": {
        "id": "ZOvNDKQ3egQT"
      },
      "id": "ZOvNDKQ3egQT",
      "execution_count": 225,
      "outputs": []
    },
    {
      "cell_type": "code",
      "execution_count": 231,
      "id": "3ffe0689",
      "metadata": {
        "id": "3ffe0689"
      },
      "outputs": [],
      "source": [
        "# forward Euler to solve the system\n",
        "def fe(u0,t0,tf,h,alpha, A,b):\n",
        "    t = arange(t0,tf+1e-10, h)      # timesteps\n",
        "    sol = zeros((len(u0), len(t)))  # rows correspond to solution at given time\n",
        "    sol[:,0] = u0\n",
        "    for i in range(1,len(t)):\n",
        "        u_xx = -dot(A, sol[:,i-1])   # compute derivative at time step before\n",
        "        af = alpha(t[i-1])*b       # compute function at time step before\n",
        "        sol[:,i] = sol[:,i-1] + h*u_xx + h*af\n",
        "    \n",
        "    return sol, t"
      ]
    },
    {
      "cell_type": "code",
      "source": [
        "sol, t = fe(u0,t0,tf,0.1,alpha, A,b)\n",
        "\n",
        "_ = plot(t, sol[15])"
      ],
      "metadata": {
        "id": "1hVaj6f9s8vu",
        "outputId": "781e06c1-6120-47cb-e59b-575ddd4a116c",
        "colab": {
          "base_uri": "https://localhost:8080/",
          "height": 276
        }
      },
      "id": "1hVaj6f9s8vu",
      "execution_count": 233,
      "outputs": [
        {
          "output_type": "display_data",
          "data": {
            "image/png": "[encoded data removed]",
            "text/plain": [
              "<Figure size 432x288 with 1 Axes>"
            ]
          },
          "metadata": {
            "needs_background": "light"
          }
        }
      ]
    },
    {
      "cell_type": "markdown",
      "id": "36936121",
      "metadata": {
        "id": "36936121"
      },
      "source": [
        "Given the original $Au = b$ system, implement an algorithm to compute the eigenvalues and eigenvectors of the matrix $A$. Exploit the computed LU factorization"
      ]
    },
    {
      "cell_type": "code",
      "execution_count": 219,
      "id": "622aadf4",
      "metadata": {
        "id": "622aadf4"
      },
      "outputs": [],
      "source": [
        "# function for the computation of eigenvalues and eigenvectors\n",
        "def eigvals(A, eps=1e-10, nmax=10000):\n",
        "    err = eps + 1.0\n",
        "    it = 0\n",
        "    Ak = A\n",
        "    eigvals = diag(A)\n",
        "    while (err > eps and it < nmax):\n",
        "        L, U = LU(Ak)\n",
        "        Ak = U@L\n",
        "        new_eigvals = diag(Ak)\n",
        "        err = linalg.norm(new_eigvals - eigvals, 2)\n",
        "        eigvals = new_eigvals\n",
        "        it += 1\n",
        "\n",
        "    return eigvals"
      ]
    },
    {
      "cell_type": "code",
      "source": [
        "#eigA = eigvals(A)\n",
        "%time eigA = sort(eigvals(A))\n",
        "numpy_eig = sort(linalg.eigvals(A))\n",
        "print(eigA - numpy_eig)"
      ],
      "metadata": {
        "id": "MOXujyd3CuLP",
        "outputId": "88cf9e56-2dea-4d5d-f913-ba53a6c651be",
        "colab": {
          "base_uri": "https://localhost:8080/"
        }
      },
      "id": "MOXujyd3CuLP",
      "execution_count": 220,
      "outputs": [
        {
          "output_type": "stream",
          "name": "stdout",
          "text": [
            "CPU times: user 7min 53s, sys: 6min 7s, total: 14min 1s\n",
            "Wall time: 7min 11s\n",
            "[ 0.00000000e+00  0.00000000e+00  1.03894671e-12  1.07114317e-12\n",
            "  1.14930288e-12  4.40536496e-13 -2.48689958e-14  5.96855898e-13\n",
            " -2.34479103e-13  4.26325641e-13 -3.83693077e-13  3.55271368e-13\n",
            " -1.27897692e-13  8.24229573e-13 -2.27373675e-13 -1.64845915e-12\n",
            "  1.13686838e-13  2.04636308e-12  1.02318154e-12 -2.21689334e-12\n",
            "  1.13686838e-13  8.52651283e-13 -3.41060513e-13  9.66338121e-13\n",
            "  7.95807864e-13 -3.41060513e-13  2.27373675e-13 -6.82121026e-13\n",
            " -1.81898940e-12 -2.38742359e-12  9.09494702e-13 -4.54747351e-13\n",
            " -3.41060513e-12  7.50333129e-12  3.18323146e-12  1.59161573e-12\n",
            " -5.68434189e-12  1.81898940e-12 -1.59161573e-12 -6.82121026e-13\n",
            " -3.86535248e-12 -3.63797881e-12 -2.72848411e-12 -5.00222086e-12\n",
            " -4.54747351e-13  3.41060513e-12  4.54747351e-13  2.72848411e-12\n",
            "  1.45519152e-11 -3.63797881e-12  6.36646291e-12  2.72848411e-12\n",
            "  7.27595761e-12 -3.63797881e-12  3.63797881e-12 -1.59161573e-11\n",
            "  1.45519152e-11 -2.09183781e-11  9.54969437e-12 -1.36424205e-12\n",
            " -1.00044417e-11 -1.04591891e-11  1.81898940e-12 -1.59161573e-11\n",
            "  4.54747351e-13  6.82121026e-12 -2.72848411e-12 -1.77351467e-11\n",
            "  1.36424205e-12  1.77351467e-11 -1.54614099e-11  1.13686838e-11\n",
            " -9.09494702e-13  9.09494702e-12 -1.54614099e-11 -7.27595761e-12\n",
            " -1.09139364e-11 -1.81898940e-12  9.09494702e-13 -2.63753464e-11\n",
            "  2.81943358e-11  9.09494702e-13 -1.45519152e-11  2.63753464e-11\n",
            "  2.09183781e-11 -2.09183781e-11  4.54747351e-11 -1.36424205e-11\n",
            "  2.00088834e-11  3.00133252e-11  3.91082722e-11 -1.18234311e-11\n",
            "  9.09494702e-13  4.63842298e-11  6.82121026e-11  3.71983333e-10\n",
            "  1.16199772e-07  1.98958523e-05  1.59221066e-03 -1.61222329e-03]\n"
          ]
        }
      ]
    },
    {
      "cell_type": "markdown",
      "id": "85d5f64e",
      "metadata": {
        "id": "85d5f64e"
      },
      "source": [
        "Compute the inverse of the matrix A exploiting the derived LU factorization"
      ]
    },
    {
      "cell_type": "code",
      "execution_count": 109,
      "id": "6ad7199f",
      "metadata": {
        "id": "6ad7199f"
      },
      "outputs": [],
      "source": [
        "# loop and compute each column of inverse matrix\n",
        "def inverse_from_LU(L,U):\n",
        "    N = len(L)\n",
        "    inv = zeros((N,N))\n",
        "    for k in range(N):\n",
        "        ek = zeros((N,))\n",
        "        ek[k] = 1\n",
        "        wk = L_solve(L, ek)\n",
        "        xk = U_solve(U, wk)\n",
        "        inv[:,k] = xk\n",
        "    \n",
        "    return inv\n",
        "\n",
        "invA = inverse_from_LU(L,U)\n",
        "# inVera = linalg.inv(A)\n",
        "# print(invA - inVera)"
      ]
    },
    {
      "cell_type": "markdown",
      "id": "cb22566e",
      "metadata": {
        "id": "cb22566e"
      },
      "source": [
        "Consider the following Cauchy problem\n",
        "$$\n",
        "\\begin{cases}\n",
        "y'= -ty^2 \\quad 0\\le t \\le 2\\\\\n",
        "y(0) = 1\n",
        "\\end{cases}\n",
        "$$\n",
        "Implement a Backward Euler's method in a suitable function and solve the resulting non-linear equation using a Newton's method."
      ]
    },
    {
      "cell_type": "code",
      "execution_count": 110,
      "id": "3184e358",
      "metadata": {
        "id": "3184e358"
      },
      "outputs": [],
      "source": [
        "# define Cauchy problem\n",
        "t0 = 0.0\n",
        "tf = 2.0\n",
        "y0 = 1.0"
      ]
    },
    {
      "cell_type": "code",
      "source": [
        "# solve nonlinear eq in BE\n",
        "def newton(f, f_prime, x0, eps=1e-10, n_max=1000):\n",
        "    assert abs(f_prime(x0)) > 1e-16\n",
        "    err = abs(f(x0))\n",
        "    errors = [err]\n",
        "    it = 0\n",
        "    x = x0\n",
        "    while (err > eps and it < n_max):\n",
        "        # check divisor is not too small\n",
        "        qk = f_prime(x)\n",
        "        if abs(qk) < 1e-12:\n",
        "            raise RuntimeError(\"f_prime(x) is close to zero\")\n",
        "        \n",
        "        # get new value of x and error\n",
        "        x_new = x - f(x)/qk \n",
        "        err = abs(f(x_new))\n",
        "        \n",
        "        # updtating \n",
        "        x = x_new\n",
        "        it += 1\n",
        "\n",
        "    return x"
      ],
      "metadata": {
        "id": "6t9dWErknsZo"
      },
      "id": "6t9dWErknsZo",
      "execution_count": 111,
      "outputs": []
    },
    {
      "cell_type": "code",
      "source": [
        "# BE method\n",
        "def be(y0, t0, tf, h):\n",
        "    t = arange(t0, tf+1e-10, h)\n",
        "    sol = zeros_like(t)\n",
        "    sol[0] = y0\n",
        "    for i in range(1, len(sol)):\n",
        "        g = lambda y: t[i]*h*y**2 + y - sol[i-1]\n",
        "        g_prime = lambda y: 2*t[i]*h*y + 1\n",
        "        sol[i] = newton(g, g_prime, sol[i-1])\n",
        "\n",
        "    return sol, t\n",
        "\n",
        "y, t = be(y0, t0, tf, 0.05)\n",
        "y_exact = 2./(t*t + 2.0)\n",
        "\n",
        "_ = plot(t, y, 'o-')\n",
        "_ = plot(t, y_exact)"
      ],
      "metadata": {
        "colab": {
          "base_uri": "https://localhost:8080/",
          "height": 265
        },
        "id": "a_stMTjUnsv_",
        "outputId": "72742da4-9300-4288-f253-314efbc24275"
      },
      "id": "a_stMTjUnsv_",
      "execution_count": 165,
      "outputs": [
        {
          "output_type": "display_data",
          "data": {
            "image/png": "[encoded data removed]",
            "text/plain": [
              "<Figure size 432x288 with 1 Axes>"
            ]
          },
          "metadata": {
            "needs_background": "light"
          }
        }
      ]
    }
  ],
  "metadata": {
    "kernelspec": {
      "display_name": "Python 3 (ipykernel)",
      "language": "python",
      "name": "python3"
    },
    "language_info": {
      "codemirror_mode": {
        "name": "ipython",
        "version": 3
      },
      "file_extension": ".py",
      "mimetype": "text/x-python",
      "name": "python",
      "nbconvert_exporter": "python",
      "pygments_lexer": "ipython3",
      "version": "3.8.11"
    },
    "colab": {
      "name": "FinalProject-2021-2022.ipynb",
      "provenance": []
    }
  },
  "nbformat": 4,
  "nbformat_minor": 5
}