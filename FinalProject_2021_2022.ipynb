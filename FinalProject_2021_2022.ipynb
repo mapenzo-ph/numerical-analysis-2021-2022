{
  "cells": [
    {
      "cell_type": "code",
      "execution_count": 178,
      "id": "3fe94688",
      "metadata": {
        "id": "3fe94688"
      },
      "outputs": [],
      "source": [
        "%matplotlib inline\n",
        "from numpy import *\n",
        "from matplotlib.pyplot import *"
      ]
    },
    {
      "cell_type": "markdown",
      "id": "8184faab",
      "metadata": {
        "id": "8184faab"
      },
      "source": [
        "Consider the following one-dimensional PDE:\n",
        "$$\n",
        "-u_{xx}(x) = f(x)\\quad\\mathrm{ in }\\ \\Omega = (0, \\pi)\n",
        "$$\n",
        "$$\n",
        "u(x) = 0, \\quad\\mathrm{ on }\\ \\partial\\Omega = \\{0, \\pi\\}\n",
        "$$\n",
        "\n",
        "Given the following $4^{th}$ order finite difference approximation of the second order derivative:\n",
        "\n",
        "$$u_{xx}(x_i) = \\frac{-u_{i-2}+16u_{i-1}-30u_i+16u_{i+1}-u_{i+2}}{12h^2}$$\n",
        "\n",
        "Implement a function that given the domain interval, the forcing function, the number of discretization points, the boundary conditions, returns the matrix $A$ and the the right hand side $b$."
      ]
    },
    {
      "cell_type": "code",
      "execution_count": 179,
      "id": "1c562f13",
      "metadata": {
        "id": "1c562f13"
      },
      "outputs": [],
      "source": [
        "def finDif(omega,f,n,bc):\n",
        "    width = omega[-1] - omega[0]\n",
        "    h = width/(n-1)\n",
        "\n",
        "    # constructing A\n",
        "    d0 = 30*ones((n,))  # main diagonal\n",
        "    d1 = -16*ones((n-1,)) # first diagonal\n",
        "    d2 = ones((n-2,)) # second diagonal\n",
        "    A = (\n",
        "        diag(d0, 0) + \n",
        "        diag(d1, -1) + diag(d1, +1) + \n",
        "        diag(d2, -2) + diag(d2, +2)\n",
        "    )\n",
        "    A /= 12.*h*h\n",
        "\n",
        "    # constructing b\n",
        "    x = linspace(omega[0], omega[-1], n)\n",
        "    b = f(x)\n",
        "    \n",
        "    # boundary conditions on first row\n",
        "    A[0,:] = 0\n",
        "    A[:,0] = 0\n",
        "    A[0,0] = 1\n",
        "    b[0] = bc[0]\n",
        "\n",
        "    # boundary conditions on last row\n",
        "    A[-1,:] = 0\n",
        "    A[:,-1] = 0\n",
        "    A[-1,-1] = 1\n",
        "    b[-1] = bc[-1]\n",
        "\n",
        "    return A, b"
      ]
    },
    {
      "cell_type": "markdown",
      "id": "c21bb21e",
      "metadata": {
        "id": "c21bb21e"
      },
      "source": [
        "Call the function using:"
      ]
    },
    {
      "cell_type": "code",
      "execution_count": 180,
      "id": "23af8831",
      "metadata": {
        "id": "23af8831"
      },
      "outputs": [],
      "source": [
        "omega = [0,pi]\n",
        "f = lambda x : sin(x)\n",
        "n = 100\n",
        "bc = [0,0]\n",
        "A, b = finDif(omega, f, n, bc)\n",
        "\n",
        "# exact solution for comparison\n",
        "x = linspace(omega[0], omega[-1], n)\n",
        "u_exact = sin(x)"
      ]
    },
    {
      "cell_type": "markdown",
      "id": "4f8a7c6f",
      "metadata": {
        "id": "4f8a7c6f"
      },
      "source": [
        "Implement two functions that compute the LU and the Cholesky factorization of the system matrix $A$"
      ]
    },
    {
      "cell_type": "code",
      "execution_count": 181,
      "id": "47468a37",
      "metadata": {
        "id": "47468a37"
      },
      "outputs": [],
      "source": [
        "def LU(A):\n",
        "    A = A.copy()\n",
        "    N = len(A)\n",
        "    for k in range(N-1):\n",
        "        # check for null pivots\n",
        "        if (abs(A[k,k]) < 1e-15):\n",
        "            raise RuntimeError(\"Null pivot\")\n",
        "        \n",
        "        # divide rows' first elements by pivot\n",
        "        A[k+1:N,k] /= A[k,k]\n",
        "        \n",
        "        # update rows\n",
        "        for j in range(k+1,N):\n",
        "            A[k+1:N,j] -= A[k+1:N,k]*A[k,j]\n",
        "    \n",
        "    # get L\n",
        "    L=tril(A)\n",
        "    # set L diagonal to ones\n",
        "    for i in range(N):\n",
        "        L[i,i]=1.0\n",
        "    \n",
        "    # get U\n",
        "    U = triu(A)\n",
        "\n",
        "    return L, U\n",
        "\n",
        "L, U = LU(A)"
      ]
    },
    {
      "cell_type": "code",
      "execution_count": 182,
      "id": "193ebfed",
      "metadata": {
        "id": "193ebfed"
      },
      "outputs": [],
      "source": [
        "def cholesky(A):\n",
        "    A = A.copy()\n",
        "    N = len(A)\n",
        "    for k in range(N-1):\n",
        "        # get diagonal element (pivot)\n",
        "        A[k,k] = sqrt(A[k,k])\n",
        "        \n",
        "        # divide rows' first elements by pivot\n",
        "        A[k+1:N,k] = A[k+1:N,k]/A[k,k]\n",
        "        \n",
        "        # update rows and cols\n",
        "        for j in range(k+1,N):\n",
        "            A[j:N,j] = A[j:N,j] - A[j:N,k]*A[j,k]\n",
        "        \n",
        "    A[-1,-1] = sqrt(A[-1,-1])\n",
        "    L=tril(A)\n",
        "    return L, L.transpose()\n",
        "\n",
        "HT, H = cholesky(A)"
      ]
    },
    {
      "cell_type": "markdown",
      "id": "41eb8436",
      "metadata": {
        "id": "41eb8436"
      },
      "source": [
        "Implement forward and backward substitution functions to exploit the developed factorization methods to solve the derived linear system of equations."
      ]
    },
    {
      "cell_type": "code",
      "execution_count": 183,
      "id": "019cf0df",
      "metadata": {
        "id": "019cf0df"
      },
      "outputs": [],
      "source": [
        "def L_solve(L,rhs):\n",
        "    x = zeros_like(rhs)\n",
        "    N = len(L)\n",
        "    \n",
        "    # forward substitution\n",
        "    x[0] = rhs[0]/L[0,0]\n",
        "    for i in range(1,N):\n",
        "        x[i] = (rhs[i] - dot(L[i, 0:i], x[0:i]))/L[i,i]\n",
        "        \n",
        "    return x"
      ]
    },
    {
      "cell_type": "code",
      "execution_count": 184,
      "id": "26ce17c4",
      "metadata": {
        "id": "26ce17c4"
      },
      "outputs": [],
      "source": [
        "def U_solve(U,rhs):\n",
        "    x = zeros_like(rhs)\n",
        "    N = len(U)\n",
        "    \n",
        "    # backward substitution\n",
        "    x[-1] = rhs[-1]/L[-1,-1]\n",
        "    for i in reversed(range(N-1)):\n",
        "        x[i] = (rhs[i] - dot(U[i, i+1:N], x[i+1:N]))/U[i,i]\n",
        "\n",
        "    return x"
      ]
    },
    {
      "cell_type": "markdown",
      "id": "08ac9ba1",
      "metadata": {
        "id": "08ac9ba1"
      },
      "source": [
        "Solve the derived linear system using the implemented functions and plot the computed solution:"
      ]
    },
    {
      "cell_type": "code",
      "execution_count": 185,
      "id": "7c1de4f3",
      "metadata": {
        "id": "7c1de4f3",
        "colab": {
          "base_uri": "https://localhost:8080/",
          "height": 265
        },
        "outputId": "4ed1ddbd-4cd4-451f-83c9-49c06fb93292"
      },
      "outputs": [
        {
          "output_type": "display_data",
          "data": {
            "image/png": "[encoded data removed]",
            "text/plain": [
              "<Figure size 432x288 with 1 Axes>"
            ]
          },
          "metadata": {
            "needs_background": "light"
          }
        }
      ],
      "source": [
        "# using LU factorization\n",
        "w_lu = L_solve(L, b)\n",
        "u_lu = U_solve(U,w_lu)\n",
        "\n",
        "# plot solution\n",
        "_ = plot(x,u_lu,'o-')\n",
        "_ = plot(x,u_exact)"
      ]
    },
    {
      "cell_type": "code",
      "source": [
        "# using Cholesky factorization\n",
        "w_ch = L_solve(HT,b)\n",
        "u_ch = U_solve(H,w_ch)\n",
        "\n",
        "# plot solution\n",
        "_ = plot(x,u_ch,'o-')\n",
        "_ = plot(x,u_exact)"
      ],
      "metadata": {
        "colab": {
          "base_uri": "https://localhost:8080/",
          "height": 265
        },
        "id": "6KVWfRXoVHRB",
        "outputId": "bbfb8122-ec45-48ab-a1f4-d26281c077e6"
      },
      "id": "6KVWfRXoVHRB",
      "execution_count": 186,
      "outputs": [
        {
          "output_type": "display_data",
          "data": {
            "image/png": "[encoded data removed]",
            "text/plain": [
              "<Figure size 432x288 with 1 Axes>"
            ]
          },
          "metadata": {
            "needs_background": "light"
          }
        }
      ]
    },
    {
      "cell_type": "markdown",
      "id": "62cdfe65",
      "metadata": {
        "id": "62cdfe65"
      },
      "source": [
        "Considering the new domain $\\Omega = (0,1)$ and the forcing term $f(x) = x(1-x)$ with B.C. $u(x) = 0$, on $\\partial \\Omega = {0,1}$ produce a plot and a table where you show the decay of the error w.r.t. the number of grid points.\n",
        "(The analytical solution for the above problems is $u_{an} = \\frac{x^4}{12} - \\frac{x^3}{6} + \\frac{x}{12}$)"
      ]
    },
    {
      "cell_type": "code",
      "source": [
        "def get_errors(omega, f, bc, points):\n",
        "    errors = []\n",
        "    for i in range(len(points)):\n",
        "        n = points[i]\n",
        "        # exact solution\n",
        "        x = linspace(omega[0], omega[1], n)\n",
        "        u_exact = x**4/12. - x**3/6. + x/12.\n",
        "\n",
        "        # direct solution\n",
        "        An, bn = finDif(omega, f, n, bc)\n",
        "        Ln, Un = LU(An)\n",
        "        wn = L_solve(Ln, bn)\n",
        "        un = U_solve(Un, wn)\n",
        "\n",
        "        # get error\n",
        "        err = linalg.norm(u_exact - un, 2)\n",
        "        errors.append(err)\n",
        "    \n",
        "    return errors    "
      ],
      "metadata": {
        "id": "JWg4qFKuW5su"
      },
      "id": "JWg4qFKuW5su",
      "execution_count": 187,
      "outputs": []
    },
    {
      "cell_type": "code",
      "source": [
        "# set input parameters\n",
        "omega = [0,1]\n",
        "bc = [0,0]\n",
        "f = lambda x: x*(1-x)\n",
        "points = list(range(5, 206, 10))\n",
        "\n",
        "# plot error vs points\n",
        "errors = get_errors(omega, f, bc, points)\n",
        "_ = semilogy(points, errors, 'o-')"
      ],
      "metadata": {
        "colab": {
          "base_uri": "https://localhost:8080/",
          "height": 265
        },
        "id": "-vLG8tZDZp8t",
        "outputId": "77c60284-7752-4b50-b255-d5774fcd6898"
      },
      "id": "-vLG8tZDZp8t",
      "execution_count": 188,
      "outputs": [
        {
          "output_type": "display_data",
          "data": {
            "image/png": "[encoded data removed]",
            "text/plain": [
              "<Figure size 432x288 with 1 Axes>"
            ]
          },
          "metadata": {
            "needs_background": "light"
          }
        }
      ]
    },
    {
      "cell_type": "markdown",
      "id": "c8d5002f",
      "metadata": {
        "id": "c8d5002f"
      },
      "source": [
        "Exploit the derived LU factorizations to compute the condition number of the system's matrix $A$ using the original problem formulation."
      ]
    },
    {
      "cell_type": "code",
      "execution_count": 189,
      "id": "c25fc1fe",
      "metadata": {
        "id": "c25fc1fe"
      },
      "outputs": [],
      "source": [
        "# power method to compute maximum eigenvalue \n",
        "def PM(A, z0, tol=1e-11, nmax=1000):\n",
        "    q = z0/linalg.norm(z0,2)\n",
        "    it = 0\n",
        "    err = tol + 1.\n",
        "    while (it < nmax and err > tol):\n",
        "        z = dot(A,q)\n",
        "        l = dot(q.T,z)\n",
        "        err = linalg.norm(z-l*q,2)\n",
        "        q = z/linalg.norm(z,2)\n",
        "        it += 1\n",
        "\n",
        "    return l,q"
      ]
    },
    {
      "cell_type": "code",
      "source": [
        "# inverse power method (with shift) for minimum eigenvalue\n",
        "def IPM(A, x0, mu, eps=1.0e-11, nmax=1000):\n",
        "    M = A - mu*eye(len(A))\n",
        "    L,U = LU(M)\n",
        "    q = x0/linalg.norm(x0,2)\n",
        "    err = eps + 1.0\n",
        "    it = 0\n",
        "    while (err > eps and it < nmax ):\n",
        "        y = L_solve(L, q)\n",
        "        x = U_solve(U, y)\n",
        "        q = x/linalg.norm(x,2)\n",
        "        z = dot(A,q)\n",
        "        l = dot(q.T,z)\n",
        "        err = linalg.norm(z-l*q,2)\n",
        "        it += 1\n",
        "    \n",
        "    return l,q"
      ],
      "metadata": {
        "id": "4dgnD9IusSmU"
      },
      "id": "4dgnD9IusSmU",
      "execution_count": 190,
      "outputs": []
    },
    {
      "cell_type": "code",
      "source": [
        "# computes max and min eigenvalues\n",
        "def condNumb(A):\n",
        "    z0 = ones((len(A), ))\n",
        "    lmax = PM(A, z0)[0]\n",
        "    lmin = IPM(A, z0, 0.0)[0]\n",
        "    return lmax/lmin\n",
        "\n",
        "condNumb(A)"
      ],
      "metadata": {
        "id": "4WGIdU3N06mI",
        "outputId": "e5b325f0-930a-48a3-d73f-3e9939fe5b4e",
        "colab": {
          "base_uri": "https://localhost:8080/"
        }
      },
      "id": "4WGIdU3N06mI",
      "execution_count": 191,
      "outputs": [
        {
          "output_type": "execute_result",
          "data": {
            "text/plain": [
              "5288.384591925407"
            ]
          },
          "metadata": {},
          "execution_count": 191
        }
      ]
    },
    {
      "cell_type": "markdown",
      "id": "2728b49a",
      "metadata": {
        "id": "2728b49a"
      },
      "source": [
        "Implement a preconditioned Conjugant Gradient method to solve the original linear system of equations using an iterative method:"
      ]
    },
    {
      "cell_type": "code",
      "execution_count": 192,
      "id": "62b83aee",
      "metadata": {
        "id": "62b83aee"
      },
      "outputs": [],
      "source": [
        "# conjugate gradient routine\n",
        "def conjugate_gradient(A, b, P, nmax=len(A), eps=1e-10):\n",
        "    N = len(A)\n",
        "    x = zeros_like(b)\n",
        "    r = b - dot(A,x)\n",
        "    rho_old = 1.\n",
        "    p_old = zeros_like(b)\n",
        "    tol = eps + 1.0\n",
        "    it = 0\n",
        "    while (it < nmax and tol > eps):\n",
        "        it += 1\n",
        "        z = linalg.solve(P,r)\n",
        "        rho = dot(r,z)\n",
        "        if (it > 1):\n",
        "            beta = rho/rho_old\n",
        "            p = z + beta*p_old\n",
        "        else:\n",
        "            p = z\n",
        "        q = dot(A,p)\n",
        "        alpha = rho/dot(p,q)\n",
        "        \n",
        "        x += p*alpha\n",
        "        r -= q*alpha\n",
        "        p_old = p\n",
        "        rho_old = rho\n",
        "        tol = linalg.norm(r,2)\n",
        "\n",
        "    print(\"iterations =\",it)\n",
        "    print(\"tolerance =\", tol)\n",
        "    return x"
      ]
    },
    {
      "cell_type": "code",
      "source": [
        "u_cg = conjugate_gradient(A, b, diag(diag(A), 0))\n",
        "_ = plot(x, u_cg, 'o-')\n",
        "_ = plot(x, u_exact)"
      ],
      "metadata": {
        "colab": {
          "base_uri": "https://localhost:8080/",
          "height": 300
        },
        "id": "hg1zohVKKZO9",
        "outputId": "ec469e28-39ed-4f1c-9918-969a24b2da66"
      },
      "id": "hg1zohVKKZO9",
      "execution_count": 193,
      "outputs": [
        {
          "output_type": "stream",
          "name": "stdout",
          "text": [
            "iterations = 50\n",
            "tolerance = 4.0484307557507975e-12\n"
          ]
        },
        {
          "output_type": "display_data",
          "data": {
            "image/png": "[encoded data removed]",
            "text/plain": [
              "<Figure size 432x288 with 1 Axes>"
            ]
          },
          "metadata": {
            "needs_background": "light"
          }
        }
      ]
    },
    {
      "cell_type": "markdown",
      "id": "8a4cfc02",
      "metadata": {
        "id": "8a4cfc02"
      },
      "source": [
        "Consider the following time dependent variation of the PDE starting from the orginal problem formulation:\n",
        "$$\n",
        "u'(t)-u_{xx} = \\alpha(t)f(x)\n",
        "$$\n",
        "\n",
        "for $t\\in [0,T]$, with $\\alpha(t) = \\cos(t)$ and $T = 6\\pi$\n",
        "\n",
        "Use the same finite difference scheme to derive the semi-discrete formulation and solve it using a forward Euler's method.\n",
        "\n",
        "Plot the time dependent solution solution at $x = \\pi/2$, $x=1$, \n",
        "$x=\\pi$\n"
      ]
    },
    {
      "cell_type": "code",
      "execution_count": 194,
      "id": "3ffe0689",
      "metadata": {
        "id": "3ffe0689"
      },
      "outputs": [],
      "source": [
        "# forward Euler routine\n",
        "def fe(u0,t0,tf,h,alpha,A,b):\n",
        "    t = arange(t0,tf+1e-10, h)      # timesteps\n",
        "    sol = zeros((len(t), len(u0)))  # rows correspond to solution at given time\n",
        "    sol[0] = u0\n",
        "    for i in range(1,len(t)):\n",
        "        u_xx = -dot(A,sol[i-1])     # compute derivative at time step before\n",
        "        af = alpha(t[i-1])*b        # compute function at time step before\n",
        "        sol[i] = sol[i-1] + h*u_xx + h*af\n",
        "    \n",
        "    return sol, t"
      ]
    },
    {
      "cell_type": "code",
      "source": [
        "# set input parameters\n",
        "t0 = 0\n",
        "tf = 6*pi\n",
        "alpha = lambda y: cos(y)\n",
        "\n",
        "# compute max eigenvalue to find appropriate timestep\n",
        "max_eigenvalue, vect = PM(A, ones_like(x)) \n",
        "h = 1/(max_eigenvalue)\n",
        "\n",
        "# set indexes for plots\n",
        "omega = [0, pi]\n",
        "idx_pi_half = round(n / (omega[-1] - omega[0]) * pi/2.) -1\n",
        "idx_one = round(n/(omega[-1] - omega[0])) - 1\n",
        "idx_pi = round(n/(omega[-1] - omega[0])*pi) - 1"
      ],
      "metadata": {
        "id": "ZOvNDKQ3egQT"
      },
      "id": "ZOvNDKQ3egQT",
      "execution_count": 195,
      "outputs": []
    },
    {
      "cell_type": "code",
      "source": [
        "# solve with initial conditions u0 = 0\n",
        "u0 = zeros((n,))\n",
        "sol, t = fe(u0,t0,tf, h,alpha, A,b)\n",
        "_ = plot(t, sol[:,idx_one], label='x=1')\n",
        "_ = plot(t, sol[:,idx_pi_half], label='x=π/2')\n",
        "_ = plot(t, sol[:,idx_pi], label='x=π')\n",
        "_ = legend(loc='upper right')"
      ],
      "metadata": {
        "colab": {
          "base_uri": "https://localhost:8080/",
          "height": 265
        },
        "id": "1hVaj6f9s8vu",
        "outputId": "22f2ceac-259c-4505-eb30-13103273ffd8"
      },
      "id": "1hVaj6f9s8vu",
      "execution_count": 196,
      "outputs": [
        {
          "output_type": "display_data",
          "data": {
            "image/png": "[encoded data removed]",
            "text/plain": [
              "<Figure size 432x288 with 1 Axes>"
            ]
          },
          "metadata": {
            "needs_background": "light"
          }
        }
      ]
    },
    {
      "cell_type": "code",
      "source": [
        "# solve with initial conditions u0 = sin(x)\n",
        "u0 = sin(x)\n",
        "sol, t = fe(u0,t0,tf, h,alpha, A,b)\n",
        "_ = plot(t, sol[:,idx_one], label='x=1')\n",
        "_ = plot(t, sol[:,idx_pi_half], label='x=π/2')\n",
        "_ = plot(t, sol[:,idx_pi], label='x=π')\n",
        "_ = legend(loc='upper right')"
      ],
      "metadata": {
        "colab": {
          "base_uri": "https://localhost:8080/",
          "height": 265
        },
        "id": "ukew2gSdwwXe",
        "outputId": "b35f5cc4-d1f4-42c1-e022-c85df0acbf8a"
      },
      "id": "ukew2gSdwwXe",
      "execution_count": 197,
      "outputs": [
        {
          "output_type": "display_data",
          "data": {
            "image/png": "[encoded data removed]",
            "text/plain": [
              "<Figure size 432x288 with 1 Axes>"
            ]
          },
          "metadata": {
            "needs_background": "light"
          }
        }
      ]
    },
    {
      "cell_type": "markdown",
      "id": "36936121",
      "metadata": {
        "id": "36936121"
      },
      "source": [
        "Given the original $Au = b$ system, implement an algorithm to compute the eigenvalues and eigenvectors of the matrix $A$. Exploit the computed LU factorization"
      ]
    },
    {
      "cell_type": "code",
      "execution_count": 224,
      "id": "622aadf4",
      "metadata": {
        "id": "622aadf4"
      },
      "outputs": [],
      "source": [
        "# compute approximate eigenvalues using LU decomposition\n",
        "def approx_eigvals_from_LU(A, eps=1.0e-3, nmax=4000):\n",
        "    err = eps + 1.0\n",
        "    A = A.copy()\n",
        "    ev_old = diag(A)\n",
        "    ev_new = zeros_like(ev_old)\n",
        "    it = 0\n",
        "    while (err > eps):\n",
        "        # update matrix\n",
        "        L, U = LU(A)\n",
        "        A = U@L\n",
        "        # get error\n",
        "        ev_new = diag(A)\n",
        "        err = max(abs(ev_new-ev_old))\n",
        "        # update\n",
        "        ev_old = ev_new\n",
        "        it += 1\n",
        "\n",
        "    # print(\"iterations =\", it)\n",
        "    # print(\"tolerance =\", err)\n",
        "    # print(it)\n",
        "    # return eigvals from biggest to smallest\n",
        "    return sort(ev_new)\n",
        "\n",
        "approx_eigvals = approx_eigvals_from_LU(A)"
      ]
    },
    {
      "cell_type": "code",
      "source": [
        "# use inverse power method with shift to obtain precise \n",
        "# eigenvalues and associated eigenvectors\n",
        "def eigv_from_LU(A, approx_eigvals):\n",
        "    eigvals = zeros_like(approx_eigvals)\n",
        "    eigvecs = zeros_like(A)\n",
        "    x0 = ones((len(A), ))\n",
        "    n = len(approx_eigvals)\n",
        "    # compute corresponding eigenvectors\n",
        "    for i in range(n):\n",
        "        # use inverse power method starting close to eigenvalue\n",
        "        eval, evec = IPM(A, x0, approx_eigvals[i]+1.0e-5)\n",
        "        # update eigenvalue and eigenvector\n",
        "        eigvals[i] = eval\n",
        "        eigvecs[:,i] = evec\n",
        "          \n",
        "    return eigvals, eigvecs\n",
        "\n",
        "eigvals_LU, eigvecs_LU = eigv_from_LU(A, approx_eigvals)"
      ],
      "metadata": {
        "id": "0-PradmRWdmk"
      },
      "id": "0-PradmRWdmk",
      "execution_count": 240,
      "outputs": []
    },
    {
      "cell_type": "code",
      "source": [
        "print(eigvals_LU)"
      ],
      "metadata": {
        "id": "jJo-frtI9tRb",
        "outputId": "b69bde52-383d-40fa-fdb0-9a723995c55d",
        "colab": {
          "base_uri": "https://localhost:8080/"
        }
      },
      "id": "jJo-frtI9tRb",
      "execution_count": 226,
      "outputs": [
        {
          "output_type": "stream",
          "name": "stdout",
          "text": [
            "[1.00000000e+00 1.00000000e+00 1.00313169e+00 4.01251523e+00\n",
            " 9.02811203e+00 1.60498444e+01 2.50775753e+01 3.61110809e+01\n",
            " 4.91500143e+01 6.41938631e+01 8.12418982e+01 1.00293117e+02\n",
            " 1.21346177e+02 1.44399329e+02 1.69450337e+02 1.96496394e+02\n",
            " 2.25534042e+02 2.56559069e+02 2.89566421e+02 3.24550096e+02\n",
            " 3.61503041e+02 4.00417049e+02 4.41282645e+02 4.84088980e+02\n",
            " 5.28823715e+02 5.75472915e+02 6.24020933e+02 6.74450302e+02\n",
            " 7.26741626e+02 7.80873470e+02 8.36822260e+02 8.94562179e+02\n",
            " 9.54065073e+02 1.01530036e+03 1.07823492e+03 1.14283307e+03\n",
            " 1.20905642e+03 1.27686384e+03 1.34621142e+03 1.41705235e+03\n",
            " 1.48933696e+03 1.56301261e+03 1.63802369e+03 1.71431162e+03\n",
            " 1.79181482e+03 1.87046869e+03 1.95020567e+03 2.03095523e+03\n",
            " 2.11264391e+03 2.19519536e+03 2.27853039e+03 2.36256705e+03\n",
            " 2.44722066e+03 2.53240399e+03 2.61802723e+03 2.70399820e+03\n",
            " 2.79022242e+03 2.87660324e+03 2.96304199e+03 3.04943813e+03\n",
            " 3.13568936e+03 3.22169186e+03 3.30734039e+03 3.39252853e+03\n",
            " 3.47714883e+03 3.56109301e+03 3.64425217e+03 3.72651703e+03\n",
            " 3.80777806e+03 3.88792579e+03 3.96685096e+03 4.04444479e+03\n",
            " 4.12059919e+03 4.19520698e+03 4.26816216e+03 4.33936007e+03\n",
            " 4.40869771e+03 4.47607388e+03 4.54138949e+03 4.60454771e+03\n",
            " 4.66545426e+03 4.72401759e+03 4.78014908e+03 4.83376331e+03\n",
            " 4.88477817e+03 4.93311517e+03 4.97869951e+03 5.02146035e+03\n",
            " 5.06133093e+03 5.09824876e+03 5.13215578e+03 5.16299844e+03\n",
            " 5.19072793e+03 5.21530021e+03 5.23667618e+03 5.25482175e+03\n",
            " 5.26970791e+03 5.28131086e+03 5.28961200e+03 5.29459802e+03]\n"
          ]
        }
      ]
    },
    {
      "cell_type": "code",
      "source": [
        "# test against numpy values\n",
        "numpy_eigvals, numpy_eigvecs = linalg.eig(A)\n",
        "idx = argsort(numpy_eigvals)\n",
        "numpy_eigvals = numpy_eigvals[idx]\n",
        "numpy_eigvecs = numpy_eigvecs[:,idx]\n",
        "\n",
        "err_eigvals = linalg.norm(eigvals_LU - numpy_eigvals, 2)\n",
        "print(\"Error on eigenvalues =\",err_eigvals)\n",
        "\n",
        "err_eigvecs = zeros_like(eigvals_LU)\n",
        "for i in range(len(eigvecs_LU)):\n",
        "    err_eigvecs[i] = max(abs(eigvecs_LU[:,i] - numpy_eigvecs[:,i]))\n",
        "print(\"Maximum error on eigenvectors =\", max(err_eigvecs))"
      ],
      "metadata": {
        "id": "gErs8QtU6f-3",
        "outputId": "46fc37eb-323b-42cd-9ca1-31da93b17d44",
        "colab": {
          "base_uri": "https://localhost:8080/"
        }
      },
      "id": "gErs8QtU6f-3",
      "execution_count": 242,
      "outputs": [
        {
          "output_type": "stream",
          "name": "stdout",
          "text": [
            "Error on eigenvalues = 6.026444242067754e-11\n",
            "Maximum error on eigenvectors = 1.0\n"
          ]
        }
      ]
    },
    {
      "cell_type": "markdown",
      "id": "85d5f64e",
      "metadata": {
        "id": "85d5f64e"
      },
      "source": [
        "Compute the inverse of the matrix A exploiting the derived LU factorization"
      ]
    },
    {
      "cell_type": "code",
      "execution_count": 243,
      "id": "6ad7199f",
      "metadata": {
        "id": "6ad7199f"
      },
      "outputs": [],
      "source": [
        "# loop and compute each column of inverse matrix\n",
        "def inverse_from_LU(L,U):\n",
        "    N = len(L)\n",
        "    inv = zeros((N,N))\n",
        "    for k in range(N):\n",
        "        ek = zeros((N,))\n",
        "        ek[k] = 1\n",
        "        wk = L_solve(L, ek)\n",
        "        xk = U_solve(U, wk)\n",
        "        inv[:,k] = xk\n",
        "    \n",
        "    return inv\n",
        "\n",
        "inv_LU = inverse_from_LU(L,U)\n",
        "# inv_numpy = linalg.inv(A)\n",
        "# print(inv_LU - inv_numpy)"
      ]
    },
    {
      "cell_type": "markdown",
      "id": "cb22566e",
      "metadata": {
        "id": "cb22566e"
      },
      "source": [
        "Consider the following Cauchy problem\n",
        "$$\n",
        "\\begin{cases}\n",
        "y'= -ty^2 \\quad 0\\le t \\le 2\\\\\n",
        "y(0) = 1\n",
        "\\end{cases}\n",
        "$$\n",
        "Implement a Backward Euler's method in a suitable function and solve the resulting non-linear equation using a Newton's method."
      ]
    },
    {
      "cell_type": "code",
      "execution_count": 244,
      "id": "3184e358",
      "metadata": {
        "id": "3184e358"
      },
      "outputs": [],
      "source": [
        "# define Cauchy problem\n",
        "t0 = 0.0\n",
        "tf = 2.0\n",
        "y0 = 1.0"
      ]
    },
    {
      "cell_type": "code",
      "source": [
        "# solve nonlinear eq in BE\n",
        "def newton(f, f_prime, x0, eps=1e-10, n_max=1000):\n",
        "    assert abs(f_prime(x0)) > 1e-16\n",
        "    err = abs(f(x0))\n",
        "    errors = [err]\n",
        "    it = 0\n",
        "    x = x0\n",
        "    while (err > eps and it < n_max):\n",
        "        # check divisor is not too small\n",
        "        qk = f_prime(x)\n",
        "        if abs(qk) < 1e-12:\n",
        "            raise RuntimeError(\"f_prime(x) is close to zero\")\n",
        "        \n",
        "        # get new value of x and error\n",
        "        x_new = x - f(x)/qk \n",
        "        err = abs(f(x_new))\n",
        "        \n",
        "        # updtating \n",
        "        x = x_new\n",
        "        it += 1\n",
        "\n",
        "    return x"
      ],
      "metadata": {
        "id": "6t9dWErknsZo"
      },
      "id": "6t9dWErknsZo",
      "execution_count": 245,
      "outputs": []
    },
    {
      "cell_type": "code",
      "source": [
        "# BE method\n",
        "def be(y0, t0, tf, h):\n",
        "    t = arange(t0, tf+1e-10, h)\n",
        "    sol = zeros_like(t)\n",
        "    sol[0] = y0\n",
        "    for i in range(1, len(sol)):\n",
        "        g = lambda y: t[i]*h*y**2 + y - sol[i-1]\n",
        "        g_prime = lambda y: 2*t[i]*h*y + 1\n",
        "        sol[i] = newton(g, g_prime, sol[i-1])\n",
        "\n",
        "    return sol, t\n",
        "\n",
        "y, t = be(y0, t0, tf, 0.05)\n",
        "y_exact = 2./(t*t + 2.0)\n",
        "\n",
        "_ = plot(t, y, 'o-')\n",
        "_ = plot(t, y_exact)"
      ],
      "metadata": {
        "colab": {
          "base_uri": "https://localhost:8080/",
          "height": 265
        },
        "id": "a_stMTjUnsv_",
        "outputId": "226827f4-e69d-47cd-9207-c36df138459f"
      },
      "id": "a_stMTjUnsv_",
      "execution_count": 246,
      "outputs": [
        {
          "output_type": "display_data",
          "data": {
            "image/png": "[encoded data removed]",
            "text/plain": [
              "<Figure size 432x288 with 1 Axes>"
            ]
          },
          "metadata": {
            "needs_background": "light"
          }
        }
      ]
    }
  ],
  "metadata": {
    "kernelspec": {
      "display_name": "Python 3 (ipykernel)",
      "language": "python",
      "name": "python3"
    },
    "language_info": {
      "codemirror_mode": {
        "name": "ipython",
        "version": 3
      },
      "file_extension": ".py",
      "mimetype": "text/x-python",
      "name": "python",
      "nbconvert_exporter": "python",
      "pygments_lexer": "ipython3",
      "version": "3.8.11"
    },
    "colab": {
      "name": "FinalProject-2021-2022.ipynb",
      "provenance": []
    }
  },
  "nbformat": 4,
  "nbformat_minor": 5
}