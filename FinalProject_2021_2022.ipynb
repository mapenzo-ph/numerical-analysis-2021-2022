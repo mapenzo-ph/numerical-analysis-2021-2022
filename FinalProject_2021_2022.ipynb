{
  "cells": [
    {
      "cell_type": "code",
      "execution_count": 1,
      "id": "3fe94688",
      "metadata": {
        "id": "3fe94688"
      },
      "outputs": [],
      "source": [
        "%matplotlib inline\n",
        "from numpy import *\n",
        "from matplotlib.pyplot import *"
      ]
    },
    {
      "cell_type": "markdown",
      "id": "8184faab",
      "metadata": {
        "id": "8184faab"
      },
      "source": [
        "Consider the following one-dimensional PDE:\n",
        "$$\n",
        "-u_{xx}(x) = f(x)\\quad\\mathrm{ in }\\ \\Omega = (0, \\pi)\n",
        "$$\n",
        "$$\n",
        "u(x) = 0, \\quad\\mathrm{ on }\\ \\partial\\Omega = \\{0, \\pi\\}\n",
        "$$\n",
        "\n",
        "Given the following $4^{th}$ order finite difference approximation of the second order derivative:\n",
        "\n",
        "$$u_{xx}(x_i) = \\frac{-u_{i-2}+16u_{i-1}-30u_i+16u_{i+1}-u_{i+2}}{12h^2}$$\n",
        "\n",
        "Implement a function that given the domain interval, the forcing function, the number of discretization points, the boundary conditions, returns the matrix $A$ and the the right hand side $b$."
      ]
    },
    {
      "cell_type": "code",
      "execution_count": 83,
      "id": "1c562f13",
      "metadata": {
        "id": "1c562f13"
      },
      "outputs": [],
      "source": [
        "def finDif(omega,f,n,bc):\n",
        "    width = omega[-1] - omega[0]\n",
        "    h = width/(n-1)\n",
        "\n",
        "    # constructing A\n",
        "    d0 = -30*ones((n,))  # main diagonal\n",
        "    d1 = 16*ones((n-1,)) # first diagonal\n",
        "    d2 = -ones((n-2,)) # second diagonal\n",
        "    A = (\n",
        "        diag(d0, 0) + \n",
        "        diag(d1, -1) + diag(d1, +1) + \n",
        "        diag(d2, -2) + diag(d2, +2)\n",
        "    )\n",
        "    A /= 12.*h*h\n",
        "    A = -A\n",
        "\n",
        "    # constructing b\n",
        "    x = linspace(omega[0], omega[-1], n)\n",
        "    b = f(x)\n",
        "    \n",
        "    # boundary conditions on first row\n",
        "    A[0,:] = 0\n",
        "    A[:,0] = 0\n",
        "    A[0,0] = 1\n",
        "    b[0] = bc[0]\n",
        "\n",
        "    # boundary conditions on last row\n",
        "    A[-1,:] = 0\n",
        "    A[:,-1] = 0\n",
        "    A[-1,-1] = 1\n",
        "    b[-1] = bc[-1]\n",
        "\n",
        "    return A, b"
      ]
    },
    {
      "cell_type": "markdown",
      "id": "c21bb21e",
      "metadata": {
        "id": "c21bb21e"
      },
      "source": [
        "Call the function using:"
      ]
    },
    {
      "cell_type": "code",
      "execution_count": 105,
      "id": "23af8831",
      "metadata": {
        "id": "23af8831"
      },
      "outputs": [],
      "source": [
        "omega = [0,pi]\n",
        "f = lambda x : sin(x)\n",
        "n = 8\n",
        "bc = [0,0]\n",
        "A, b = finDif(omega, f, n, bc)"
      ]
    },
    {
      "cell_type": "markdown",
      "id": "4f8a7c6f",
      "metadata": {
        "id": "4f8a7c6f"
      },
      "source": [
        "Implement two functions that compute the LU and the Cholesky factorization of the system matrix $A$"
      ]
    },
    {
      "cell_type": "code",
      "execution_count": 106,
      "id": "47468a37",
      "metadata": {
        "id": "47468a37"
      },
      "outputs": [],
      "source": [
        "def LU(A):\n",
        "    A = A.copy()\n",
        "    N = len(A)\n",
        "    for k in range(N-1):\n",
        "        # check for null pivots\n",
        "        if (abs(A[k,k]) < 1e-15):\n",
        "            raise RuntimeError(\"Null pivot\")\n",
        "        \n",
        "        # divide rows' first elements by pivot\n",
        "        A[k+1:N,k] /= A[k,k]\n",
        "        \n",
        "        # update rows\n",
        "        for j in range(k+1,N):\n",
        "            A[k+1:N,j] -= A[k+1:N,k]*A[k,j]\n",
        "    \n",
        "    # get L\n",
        "    L=tril(A)\n",
        "    # set L diagonal to ones\n",
        "    for i in range(N):\n",
        "        L[i,i]=1.0\n",
        "    \n",
        "    # get U\n",
        "    U = triu(A)\n",
        "\n",
        "    return L, U\n",
        "\n",
        "L, U = LU(A)"
      ]
    },
    {
      "cell_type": "code",
      "execution_count": 107,
      "id": "193ebfed",
      "metadata": {
        "id": "193ebfed"
      },
      "outputs": [],
      "source": [
        "def cholesky(A):\n",
        "    A = A.copy()\n",
        "    N = len(A)\n",
        "    for k in range(N-1):\n",
        "        # get diagonal element (pivot)\n",
        "        A[k,k] = sqrt(A[k,k])\n",
        "        \n",
        "        # divide rows' first elements by pivot\n",
        "        A[k+1:N,k] = A[k+1:N,k]/A[k,k]\n",
        "        \n",
        "        # update rows and cols\n",
        "        for j in range(k+1,N):\n",
        "            A[j:N,j] = A[j:N,j] - A[j:N,k]*A[j,k]\n",
        "        \n",
        "    A[-1,-1] = sqrt(A[-1,-1])\n",
        "    L=tril(A)\n",
        "    return L, L.transpose()\n",
        "\n",
        "HT, H = cholesky(A)"
      ]
    },
    {
      "cell_type": "markdown",
      "id": "41eb8436",
      "metadata": {
        "id": "41eb8436"
      },
      "source": [
        "Implement forward and backward substitution functions to exploit the developed factorization methods to solve the derived linear system of equations."
      ]
    },
    {
      "cell_type": "code",
      "execution_count": 108,
      "id": "019cf0df",
      "metadata": {
        "id": "019cf0df"
      },
      "outputs": [],
      "source": [
        "def L_solve(L,rhs):\n",
        "    x = zeros_like(rhs)\n",
        "    N = len(L)\n",
        "\n",
        "    # forward substitution\n",
        "    x[0] = rhs[0]/L[0,0]\n",
        "    for i in range(1,N):\n",
        "        x[i] = (rhs[i] - dot(L[i, 0:i], x[0:i]))/L[i,i]\n",
        "        \n",
        "    return x"
      ]
    },
    {
      "cell_type": "code",
      "execution_count": 109,
      "id": "26ce17c4",
      "metadata": {
        "id": "26ce17c4"
      },
      "outputs": [],
      "source": [
        "def U_solve(U,rhs):\n",
        "    x = zeros_like(rhs)\n",
        "    N = len(U)\n",
        "\n",
        "    # backward substitution\n",
        "    x[-1] = rhs[-1]/L[-1,-1]\n",
        "    for i in reversed(range(N-1)):\n",
        "        x[i] = (rhs[i] - dot(U[i, i+1:N], x[i+1:N]))/U[i,i]\n",
        "        \n",
        "    return x"
      ]
    },
    {
      "cell_type": "markdown",
      "id": "08ac9ba1",
      "metadata": {
        "id": "08ac9ba1"
      },
      "source": [
        "Solve the derived linear system using the implemented functions and plot the computed solution:"
      ]
    },
    {
      "cell_type": "code",
      "execution_count": 110,
      "id": "7c1de4f3",
      "metadata": {
        "id": "7c1de4f3",
        "colab": {
          "base_uri": "https://localhost:8080/",
          "height": 265
        },
        "outputId": "11e1dd1b-0b6b-4c1e-b365-485cc45b8b94"
      },
      "outputs": [
        {
          "output_type": "display_data",
          "data": {
            "image/png": "[encoded data removed]",
            "text/plain": [
              "<Figure size 432x288 with 1 Axes>"
            ]
          },
          "metadata": {
            "needs_background": "light"
          }
        }
      ],
      "source": [
        "# using LU factorization\n",
        "w = L_solve(L, b)\n",
        "u = U_solve(U,w)\n",
        "\n",
        "# plot solution\n",
        "x = linspace(omega[0], omega[-1], n)\n",
        "_ = plot(x,u,'ro')"
      ]
    },
    {
      "cell_type": "code",
      "source": [
        "# using Cholesky factorization\n",
        "wc = L_solve(HT,b)\n",
        "uc = U_solve(H,wc)\n",
        "\n",
        "# plot solution\n",
        "_ = plot(x,uc,'ro')"
      ],
      "metadata": {
        "colab": {
          "base_uri": "https://localhost:8080/",
          "height": 265
        },
        "id": "6KVWfRXoVHRB",
        "outputId": "8af35009-74c1-4309-a4d9-bb938794924b"
      },
      "id": "6KVWfRXoVHRB",
      "execution_count": 111,
      "outputs": [
        {
          "output_type": "display_data",
          "data": {
            "image/png": "[encoded data removed]",
            "text/plain": [
              "<Figure size 432x288 with 1 Axes>"
            ]
          },
          "metadata": {
            "needs_background": "light"
          }
        }
      ]
    },
    {
      "cell_type": "markdown",
      "id": "62cdfe65",
      "metadata": {
        "id": "62cdfe65"
      },
      "source": [
        "Considering the new domain $\\Omega = (0,1)$ and the forcing term $f(x) = x(1-x)$ with B.C. $u(x) = 0$, on $\\partial \\Omega = {0,1}$ produce a plot and a table where you show the decay of the error w.r.t. the number of grid points.\n",
        "(The analytical solution for the above problems is $u_{an} = \\frac{x^4}{12} - \\frac{x^3}{6} + \\frac{x}{12}$)"
      ]
    },
    {
      "cell_type": "code",
      "execution_count": null,
      "id": "91212afb",
      "metadata": {
        "id": "91212afb"
      },
      "outputs": [],
      "source": [
        "#TODO"
      ]
    },
    {
      "cell_type": "markdown",
      "id": "c8d5002f",
      "metadata": {
        "id": "c8d5002f"
      },
      "source": [
        "Exploit the derived LU factorizations to compute the condition number of the system's matrix $A$ using the original problem formulation."
      ]
    },
    {
      "cell_type": "code",
      "execution_count": null,
      "id": "c25fc1fe",
      "metadata": {
        "id": "c25fc1fe"
      },
      "outputs": [],
      "source": [
        "def condNumb(A):\n",
        "    pass #TODO\n",
        "    return condNu"
      ]
    },
    {
      "cell_type": "markdown",
      "id": "2728b49a",
      "metadata": {
        "id": "2728b49a"
      },
      "source": [
        "Implement a preconditioned Conjugant Gradient method to solve the original linear system of equations using an iterative method:"
      ]
    },
    {
      "cell_type": "code",
      "execution_count": null,
      "id": "62b83aee",
      "metadata": {
        "id": "62b83aee"
      },
      "outputs": [],
      "source": [
        "def conjugate_gradient(A, b, P, nmax=len(A), eps=1e-10):\n",
        "    pass #TODO"
      ]
    },
    {
      "cell_type": "markdown",
      "id": "8a4cfc02",
      "metadata": {
        "id": "8a4cfc02"
      },
      "source": [
        "Consider the following time dependent variation of the PDE starting from the orginal problem formulation:\n",
        "$$\n",
        "u'(t)-u_{xx} = \\alpha(t)f(x)\n",
        "$$\n",
        "\n",
        "for $t\\in [0,T]$, with $\\alpha(t) = \\cos(t)$ and $T = 6\\pi$\n",
        "\n",
        "Use the same finite difference scheme to derive the semi-discrete formulation and solve it using a forward Euler's method.\n",
        "\n",
        "Plot the time dependent solution solution at $x = \\pi/2$, $x=1$, \n",
        "$x=\\pi$\n"
      ]
    },
    {
      "cell_type": "code",
      "execution_count": null,
      "id": "3ffe0689",
      "metadata": {
        "id": "3ffe0689"
      },
      "outputs": [],
      "source": [
        "#TODO"
      ]
    },
    {
      "cell_type": "markdown",
      "id": "36936121",
      "metadata": {
        "id": "36936121"
      },
      "source": [
        "Given the original $Au = b$ system, implement an algorithm to compute the eigenvalues and eigenvectors of the matrix $A$. Exploit the computed LU factorization"
      ]
    },
    {
      "cell_type": "code",
      "execution_count": null,
      "id": "622aadf4",
      "metadata": {
        "id": "622aadf4"
      },
      "outputs": [],
      "source": [
        "#TODO"
      ]
    },
    {
      "cell_type": "markdown",
      "id": "85d5f64e",
      "metadata": {
        "id": "85d5f64e"
      },
      "source": [
        "Compute the inverse of the matrix A exploiting the derived LU factorization"
      ]
    },
    {
      "cell_type": "code",
      "execution_count": 117,
      "id": "6ad7199f",
      "metadata": {
        "id": "6ad7199f"
      },
      "outputs": [],
      "source": [
        "# loop and compute each column of inverse matrix\n",
        "def inverse_from_LU(L,U):\n",
        "    N = len(L)\n",
        "    inv = zeros((N,N))\n",
        "    for k in range(N):\n",
        "        ek = zeros((N,))\n",
        "        ek[k] = 1\n",
        "        wk = L_solve(L, ek)\n",
        "        xk = U_solve(U, wk)\n",
        "        inv[:,k] = xk\n",
        "    \n",
        "    return inv\n",
        "\n",
        "invA = inverse_from_LU(L,U)\n",
        "# inVera = linalg.inv(A)\n",
        "# print(invA - inVera)"
      ]
    },
    {
      "cell_type": "markdown",
      "id": "cb22566e",
      "metadata": {
        "id": "cb22566e"
      },
      "source": [
        "Consider the following Cauchy problem\n",
        "$$\n",
        "\\begin{cases}\n",
        "y'= -ty^2 \\quad 0\\le t \\le 2\\\\\n",
        "y(0) = 1\n",
        "\\end{cases}\n",
        "$$\n",
        "Implement a Backward Euler's method in a suitable function and solve the resulting non-linear equation using a Newton's method."
      ]
    },
    {
      "cell_type": "code",
      "execution_count": null,
      "id": "3184e358",
      "metadata": {
        "id": "3184e358"
      },
      "outputs": [],
      "source": [
        "#TODO"
      ]
    }
  ],
  "metadata": {
    "kernelspec": {
      "display_name": "Python 3 (ipykernel)",
      "language": "python",
      "name": "python3"
    },
    "language_info": {
      "codemirror_mode": {
        "name": "ipython",
        "version": 3
      },
      "file_extension": ".py",
      "mimetype": "text/x-python",
      "name": "python",
      "nbconvert_exporter": "python",
      "pygments_lexer": "ipython3",
      "version": "3.8.11"
    },
    "colab": {
      "name": "FinalProject-2021-2022.ipynb",
      "provenance": []
    }
  },
  "nbformat": 4,
  "nbformat_minor": 5
}