{
 "cells": [
  {
   "cell_type": "code",
   "execution_count": 1,
   "id": "dd0afb31",
   "metadata": {},
   "outputs": [],
   "source": [
    "import numpy as np\n",
    "import matplotlib.pyplot as plt\n",
    "\n",
    "from collections import namedtuple"
   ]
  },
  {
   "cell_type": "markdown",
   "id": "2925a9fa",
   "metadata": {},
   "source": [
    "## Named Tuples\n",
    "\n",
    "Approaching interpolation using named tuples"
   ]
  },
  {
   "cell_type": "code",
   "execution_count": 5,
   "id": "ffd50a9b",
   "metadata": {},
   "outputs": [],
   "source": [
    "Student = namedtuple('Student', ['name', 'surname', 'mark'])"
   ]
  },
  {
   "cell_type": "code",
   "execution_count": 6,
   "id": "5d244ab5",
   "metadata": {},
   "outputs": [],
   "source": [
    "s1 = Student('John', 'Smith', 30)"
   ]
  },
  {
   "cell_type": "code",
   "execution_count": 7,
   "id": "ade52e20",
   "metadata": {},
   "outputs": [
    {
     "data": {
      "text/plain": [
       "'Smith'"
      ]
     },
     "execution_count": 7,
     "metadata": {},
     "output_type": "execute_result"
    }
   ],
   "source": [
    "s1.surname"
   ]
  },
  {
   "cell_type": "code",
   "execution_count": 9,
   "id": "93779d25",
   "metadata": {},
   "outputs": [],
   "source": [
    "Circle = namedtuple('Circle', ['cx', 'cy', 'r'])\n",
    "my_circle = Circle(0, 0, 7)"
   ]
  },
  {
   "cell_type": "code",
   "execution_count": 10,
   "id": "fa8a8706",
   "metadata": {},
   "outputs": [
    {
     "data": {
      "text/plain": [
       "7"
      ]
     },
     "execution_count": 10,
     "metadata": {},
     "output_type": "execute_result"
    }
   ],
   "source": [
    "my_circle.r"
   ]
  },
  {
   "cell_type": "markdown",
   "id": "f4f76e4b",
   "metadata": {},
   "source": [
    "When interpolating a function we need three things:\n",
    "- nodes\n",
    "- points\n",
    "- matrix\n",
    "\n",
    "We can use named tuples to pack them all together"
   ]
  },
  {
   "cell_type": "code",
   "execution_count": 11,
   "id": "b7f55dd8",
   "metadata": {},
   "outputs": [],
   "source": [
    "ApproximationOperator = namedtuple('ApproximationOperator', ['q', 'x', 'M'])"
   ]
  },
  {
   "cell_type": "code",
   "execution_count": 20,
   "id": "1ad4f44a",
   "metadata": {},
   "outputs": [],
   "source": [
    "def build_lagrangian_basis(q,x):\n",
    "    \"\"\"\n",
    "    This function takes two 1D numpy array, q and x, and returns\n",
    "    a matrix M such that M[i,j] is the evaluation of the polynomial\n",
    "    ell_i on point x_j\n",
    "    \"\"\"\n",
    "    n_nodes = q.shape[0]\n",
    "    n_evaluation_points = x.shape[0]\n",
    "    \n",
    "    M = np.zeros((n_evaluation_points, n_nodes), dtype=np.float64)\n",
    "    \n",
    "    for i in range(n_evaluation_points):\n",
    "        for j in range(n_nodes):\n",
    "            M[i,j] = 1\n",
    "            for k in range(n_nodes):\n",
    "                if j==k:\n",
    "                    continue\n",
    "                M[i,j] = M[i,j] * (x[i]-q[j])/(q[k]-q[j])\n",
    "                \n",
    "    return M\n",
    "\n",
    "    "
   ]
  },
  {
   "cell_type": "code",
   "execution_count": 21,
   "id": "82e0670f",
   "metadata": {},
   "outputs": [
    {
     "data": {
      "text/plain": [
       "array([[ 0.00000000e+00, -1.66666667e-01,  4.00000000e+00,\n",
       "        -1.35000000e+01,  1.06666667e+01],\n",
       "       [ 8.23045267e-03, -2.05761317e-03,  7.90123457e-01,\n",
       "        -4.94032922e+00,  5.14403292e+00],\n",
       "       [ 1.31687243e-01, -2.05761317e-03,  4.93827160e-02,\n",
       "        -1.28600823e+00,  2.10699588e+00],\n",
       "       [ 6.66666667e-01, -1.66666667e-01,  0.00000000e+00,\n",
       "        -1.66666667e-01,  6.66666667e-01],\n",
       "       [ 2.10699588e+00, -1.28600823e+00,  4.93827160e-02,\n",
       "        -2.05761317e-03,  1.31687243e-01],\n",
       "       [ 5.14403292e+00, -4.94032922e+00,  7.90123457e-01,\n",
       "        -2.05761317e-03,  8.23045267e-03],\n",
       "       [ 1.06666667e+01, -1.35000000e+01,  4.00000000e+00,\n",
       "        -1.66666667e-01,  0.00000000e+00]])"
      ]
     },
     "execution_count": 21,
     "metadata": {},
     "output_type": "execute_result"
    }
   ],
   "source": [
    "my_q = np.linspace(0,1,5)\n",
    "my_x = np.linspace(0,1,7)\n",
    "build_lagrangian_basis(my_q, my_x)"
   ]
  },
  {
   "cell_type": "code",
   "execution_count": 22,
   "id": "9b158525",
   "metadata": {},
   "outputs": [],
   "source": [
    "def build_equispace_interpolator(n_nodes, x):\n",
    "    \"\"\"\n",
    "    Build the operator that interpolates a function on [0,1]\n",
    "    using n_nodes, equally spaced.\"\"\"\n",
    "    q = np.linspace(0,1,n_nodes)\n",
    "    M = build_lagrangian_basis(q,x)\n",
    "    return ApproximationOperator(q,x,M)"
   ]
  },
  {
   "cell_type": "code",
   "execution_count": 23,
   "id": "b40790d3",
   "metadata": {},
   "outputs": [],
   "source": [
    "def f1(x):\n",
    "    return np.sin(np.pi*x)"
   ]
  },
  {
   "cell_type": "code",
   "execution_count": 25,
   "id": "f78aff6d",
   "metadata": {},
   "outputs": [],
   "source": [
    "evaluation_points = np.linspace(0,1,257)"
   ]
  },
  {
   "cell_type": "code",
   "execution_count": 27,
   "id": "ba275bb2",
   "metadata": {},
   "outputs": [],
   "source": [
    "I_4 = build_equispace_interpolator(4, evaluation_points)"
   ]
  },
  {
   "cell_type": "code",
   "execution_count": 30,
   "id": "67dcd5ed",
   "metadata": {},
   "outputs": [],
   "source": [
    "evaluation_of_interpolation = I_4.M @ f1(I_4.q) # this is matrix prod"
   ]
  },
  {
   "cell_type": "code",
   "execution_count": 32,
   "id": "fbf1c311",
   "metadata": {},
   "outputs": [
    {
     "data": {
      "text/plain": [
       "[<matplotlib.lines.Line2D at 0x10a059a90>]"
      ]
     },
     "execution_count": 32,
     "metadata": {},
     "output_type": "execute_result"
    },
    {
     "data": {
      "image/png": "[encoded data removed]",
      "text/plain": [
       "<Figure size 432x288 with 1 Axes>"
      ]
     },
     "metadata": {
      "needs_background": "light"
     },
     "output_type": "display_data"
    }
   ],
   "source": [
    "plt.plot(evaluation_points, f1(evaluation_points))\n",
    "plt.plot(evaluation_points, evaluation_of_interpolation, color='red')"
   ]
  },
  {
   "cell_type": "code",
   "execution_count": null,
   "id": "98c1e778",
   "metadata": {},
   "outputs": [],
   "source": []
  }
 ],
 "metadata": {
  "kernelspec": {
   "display_name": "Python 3 (ipykernel)",
   "language": "python",
   "name": "python3"
  },
  "language_info": {
   "codemirror_mode": {
    "name": "ipython",
    "version": 3
   },
   "file_extension": ".py",
   "mimetype": "text/x-python",
   "name": "python",
   "nbconvert_exporter": "python",
   "pygments_lexer": "ipython3",
   "version": "3.9.7"
  }
 },
 "nbformat": 4,
 "nbformat_minor": 5
}
