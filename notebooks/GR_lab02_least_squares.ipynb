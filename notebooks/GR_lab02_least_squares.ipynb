{
  "cells": [
    {
      "cell_type": "markdown",
      "metadata": {
        "id": "Rx9qU_RqLVLP"
      },
      "source": [
        "# Least squares\n",
        "\n",
        "The following is an example from Lecture 06.\n",
        "\n",
        "The result of census of the population of Switzerland between 1900 and 2010 (in thousands) is summarized in the following table:\n",
        "\n",
        "|\tyear\t|\tpopulation\t|\n",
        "|-----------|---------------|\n",
        "|\t1900\t|\t3315\t|\n",
        "|\t1910\t|\t3753\t|\n",
        "|\t1920\t|\t3880\t|\n",
        "|\t1930\t|\t4066\t|\n",
        "|\t1941\t|\t4266\t|\n",
        "|\t1950\t|\t4715\t|\n",
        "|\t1960\t|\t5429\t|\n",
        "|\t1970\t|\t6270\t|\n",
        "|\t1980\t|\t6366\t|\n",
        "|\t1990\t|\t6874\t|\n",
        "|\t2000\t|\t7288\t|\n",
        "|\t2010\t|\t7783\t|\n",
        "\n",
        "\n",
        "* Is it possible to estimate the number of inhabitants of Switzerland\n",
        "during the year when there has not been census, for example in 1945\n",
        "and 1975?\n",
        "\n",
        "* Is it possible to predict the number of inhabitants of Switzerland in\n",
        "2020?"
      ]
    },
    {
      "cell_type": "code",
      "execution_count": 1,
      "metadata": {
        "colab": {
          "base_uri": "https://localhost:8080/",
          "height": 337
        },
        "id": "--YWCcp0LVLV",
        "outputId": "2d750709-5d84-4c7f-9832-506eef73900d"
      },
      "outputs": [
        {
          "output_type": "stream",
          "name": "stdout",
          "text": [
            "501596.6994044841 -549.8998019131677 0.1513877128795851\n",
            "4745.087199665373\n",
            "6051.288176909555\n",
            "8521.523173744325\n"
          ]
        },
        {
          "output_type": "display_data",
          "data": {
            "image/png": "[encoded data removed]",
            "text/plain": [
              "<Figure size 432x288 with 1 Axes>"
            ]
          },
          "metadata": {
            "needs_background": "light"
          }
        }
      ],
      "source": [
        "%matplotlib inline\n",
        "from numpy import *\n",
        "from matplotlib.pyplot import *\n",
        "\n",
        "year = array([1900, 1910, 1920, 1930, 1941, 1950, 1960, 1970, 1980, 1990, 2000, 2010])\n",
        "population = array([3315, 3753, 3880, 4066, 4266, 4715, 5429, 6270, 6366, 6874, 7288, 7783])\n",
        "\n",
        "assert len(year) is len(population)\n",
        "n = len(year)\n",
        "B = matrix([ones(n), year, year**2]).T\n",
        "BT = B.T\n",
        "\n",
        "y = matrix(population).T\n",
        "\n",
        "a = linalg.solve(BT*B, BT*y)\n",
        "a0 = float(a[0])\n",
        "a1 = float(a[1])\n",
        "a2 = float(a[2])\n",
        "print(a0, a1, a2)\n",
        "\n",
        "xx = linspace(1900,2010,100)\n",
        "f = lambda x: a0 + a1*x + a2*x**2\n",
        "\n",
        "_ = plot(xx, f(xx))\n",
        "_ = scatter(year, population, color='r')\n",
        "\n",
        "\n",
        "\n",
        "print(f(1945))\n",
        "print(f(1975))\n",
        "print(f(2020))"
      ]
    },
    {
      "cell_type": "code",
      "execution_count": 2,
      "metadata": {
        "colab": {
          "base_uri": "https://localhost:8080/",
          "height": 340
        },
        "id": "xsT0NXPOLVLY",
        "outputId": "177bfe4c-72a9-4c37-a96e-c8d3d7f9d112"
      },
      "outputs": [
        {
          "output_type": "stream",
          "name": "stdout",
          "text": [
            "26802353.358881023 -40923.77141586327 -40923.77141586327\n",
            "4673.021193828434\n",
            "6172.457116805017\n",
            "8041.685334734619\n"
          ]
        },
        {
          "output_type": "display_data",
          "data": {
            "image/png": "[encoded data removed]",
            "text/plain": [
              "<Figure size 432x288 with 1 Axes>"
            ]
          },
          "metadata": {
            "needs_background": "light"
          }
        }
      ],
      "source": [
        "# Try to reimplement the problem changing the order of the polynomial fitting\n",
        "\n",
        "# define matrix for interpolation\n",
        "B = matrix([ones(n), year, year**2, year**3]).T\n",
        "BT = B.T\n",
        "\n",
        "# solve for the vector of polynomial coefficients\n",
        "a = linalg.solve(BT*B, BT*y)\n",
        "a0 = float(a[0])\n",
        "a1 = float(a[1])\n",
        "a2 = float(a[2])\n",
        "a3 = float(a[3])\n",
        "\n",
        "# plot the resulting curve and data\n",
        "print(a0, a1, a1)\n",
        "f = lambda x: a0 +  a1*x + a2*x**2 + a3*x**3\n",
        "_ = plot(xx, f(xx))\n",
        "_ = scatter(year, population, color='r')\n",
        "\n",
        "# predicting values \n",
        "print(f(1945))\n",
        "print(f(1975))\n",
        "print(f(2020))"
      ]
    },
    {
      "cell_type": "code",
      "execution_count": 4,
      "metadata": {
        "colab": {
          "base_uri": "https://localhost:8080/",
          "height": 337
        },
        "id": "MhGgU517LVLY",
        "outputId": "7fc707e7-d08e-4695-c9d5-e7d1a75a2944"
      },
      "outputs": [
        {
          "output_type": "stream",
          "name": "stdout",
          "text": [
            "[ 1.51387713e-01 -5.49899801e+02  5.01596699e+05]\n",
            "4745.0871998030925\n",
            "6051.2881770095555\n",
            "8521.523173359747\n"
          ]
        },
        {
          "output_type": "display_data",
          "data": {
            "image/png": "[encoded data removed]",
            "text/plain": [
              "<Figure size 432x288 with 1 Axes>"
            ]
          },
          "metadata": {
            "needs_background": "light"
          }
        }
      ],
      "source": [
        "# Try to compare the results with the one obtained with the numpy polynomial fitting tool (polyfit)\n",
        "\n",
        "# doing the fit with numpy.polyfit\n",
        "a = polyfit(year, population, 2)\n",
        "print(a)\n",
        "\n",
        "# plottin curve and values\n",
        "f = poly1d(a)\n",
        "_ = plot(xx, f(xx))\n",
        "_ = scatter(year, population, color='r')\n",
        "\n",
        "# predicting values\n",
        "print(f(1945))\n",
        "print(f(1975))\n",
        "print(f(2020))"
      ]
    },
    {
      "cell_type": "code",
      "source": [
        ""
      ],
      "metadata": {
        "id": "5ABHmCFwda8z"
      },
      "execution_count": null,
      "outputs": []
    }
  ],
  "metadata": {
    "anaconda-cloud": {},
    "kernelspec": {
      "display_name": "Python 3 (ipykernel)",
      "language": "python",
      "name": "python3"
    },
    "language_info": {
      "codemirror_mode": {
        "name": "ipython",
        "version": 3
      },
      "file_extension": ".py",
      "mimetype": "text/x-python",
      "name": "python",
      "nbconvert_exporter": "python",
      "pygments_lexer": "ipython3",
      "version": "3.9.7"
    },
    "colab": {
      "name": "GR_lab02_least_squares.ipynb",
      "provenance": []
    }
  },
  "nbformat": 4,
  "nbformat_minor": 0
}