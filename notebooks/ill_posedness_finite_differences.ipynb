{
 "cells": [
  {
   "cell_type": "code",
   "execution_count": 1,
   "id": "ed81a853",
   "metadata": {},
   "outputs": [
    {
     "name": "stdout",
     "output_type": "stream",
     "text": [
      "Populating the interactive namespace from numpy and matplotlib\n"
     ]
    }
   ],
   "source": [
    "%pylab inline"
   ]
  },
  {
   "cell_type": "code",
   "execution_count": 3,
   "id": "fce8d9a2",
   "metadata": {},
   "outputs": [],
   "source": [
    "def FD(f, x, h):\n",
    "    return (f(x+h)-f(x))/h\n",
    "\n",
    "def CFD(f, x, h):\n",
    "    return (f(x+h)-f(x-h))/(2*h)\n",
    "\n",
    "def myfun(x):\n",
    "    return sin(x)\n",
    "\n",
    "def exact(x):\n",
    "    return cos(x)"
   ]
  },
  {
   "cell_type": "code",
   "execution_count": 18,
   "id": "7929f1f2",
   "metadata": {},
   "outputs": [],
   "source": [
    "x0 = 1\n",
    "\n",
    "H = [2**(-i) for i in range(1,75)]\n",
    "error = [abs(exact(x0) - FD(myfun, x0, h)) for h in H]\n",
    "error2 = [abs(exact(x0) - CFD(myfun, x0, h)) for h in H]"
   ]
  },
  {
   "cell_type": "code",
   "execution_count": 19,
   "id": "52604546",
   "metadata": {},
   "outputs": [
    {
     "data": {
      "text/plain": [
       "[<matplotlib.lines.Line2D at 0x14cec86a0>]"
      ]
     },
     "execution_count": 19,
     "metadata": {},
     "output_type": "execute_result"
    },
    {
     "data": {
      "image/png": "[encoded data removed]",
      "text/plain": [
       "<Figure size 432x288 with 1 Axes>"
      ]
     },
     "metadata": {
      "needs_background": "light"
     },
     "output_type": "display_data"
    }
   ],
   "source": [
    "loglog(H, error, 'ro-')\n",
    "#loglog(H, error2, 'bo-')"
   ]
  },
  {
   "cell_type": "code",
   "execution_count": null,
   "id": "e8e8d46c",
   "metadata": {},
   "outputs": [],
   "source": []
  }
 ],
 "metadata": {
  "kernelspec": {
   "display_name": "Python 3 (ipykernel)",
   "language": "python",
   "name": "python3"
  },
  "language_info": {
   "codemirror_mode": {
    "name": "ipython",
    "version": 3
   },
   "file_extension": ".py",
   "mimetype": "text/x-python",
   "name": "python",
   "nbconvert_exporter": "python",
   "pygments_lexer": "ipython3",
   "version": "3.9.7"
  }
 },
 "nbformat": 4,
 "nbformat_minor": 5
}
