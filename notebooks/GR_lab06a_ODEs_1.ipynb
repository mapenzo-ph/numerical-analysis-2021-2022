{
  "cells": [
    {
      "cell_type": "markdown",
      "metadata": {
        "id": "_06dt5ocUE3U"
      },
      "source": [
        "# ODE\n",
        "\n",
        "We will solve the following linear Cauchy model\n",
        "\n",
        "\\begin{align}\n",
        "y^{\\prime}(t) &= \\lambda y(t)\\\\\n",
        "y(0) & = 1\n",
        "\\end{align}\n",
        "\n",
        "whose exact solution is\n",
        "\n",
        "$$\n",
        "y(t) = e^{\\lambda t}\n",
        "$$\n"
      ]
    },
    {
      "cell_type": "code",
      "execution_count": 1,
      "metadata": {
        "id": "IOVkHDpyUE3c"
      },
      "outputs": [],
      "source": [
        "%matplotlib inline\n",
        "from numpy import *\n",
        "from matplotlib.pyplot import *\n",
        "import scipy.linalg\n",
        "import numpy.linalg"
      ]
    },
    {
      "cell_type": "code",
      "source": [
        "l = -5.   # lamba (see formula above)\n",
        "t0 = 0.   # initial time\n",
        "tf = 10.  # final time\n",
        "y0 = 1.   # boundary condition\n",
        "\n",
        "s = linspace(t0,tf,5000)\n",
        "exact = lambda x: exp(l*x)  # exact solution"
      ],
      "metadata": {
        "id": "BSevqGGPUJWB"
      },
      "execution_count": 3,
      "outputs": []
    },
    {
      "cell_type": "markdown",
      "metadata": {
        "id": "V2F4dUDbUE3e"
      },
      "source": [
        "### Forward Euler\n",
        "\n",
        "$$\n",
        "\\frac{y_{n}-y_{n-1}}{h} = f(y_{n-1}, t_{n-1})\n",
        "$$"
      ]
    },
    {
      "cell_type": "code",
      "execution_count": 5,
      "metadata": {
        "id": "jDlK8fkPUE3f",
        "outputId": "13f94216-2975-4138-ff34-53c66f1c1d17",
        "colab": {
          "base_uri": "https://localhost:8080/",
          "height": 283
        }
      },
      "outputs": [
        {
          "output_type": "stream",
          "name": "stdout",
          "text": [
            "0.21160539552547342\n"
          ]
        },
        {
          "output_type": "display_data",
          "data": {
            "image/png": "[encoded data removed]",
            "text/plain": [
              "<Figure size 432x288 with 1 Axes>"
            ]
          },
          "metadata": {
            "needs_background": "light"
          }
        }
      ],
      "source": [
        "def fe(l,y0,t0,tf,h):\n",
        "    timesteps = arange(t0,tf+1e-10, h)\n",
        "    sol = zeros_like(timesteps)\n",
        "    sol[0] = y0\n",
        "    for i in range(1,len(sol)):\n",
        "        sol[i] = sol[i-1]*(1+l*h)\n",
        "    \n",
        "    return sol, timesteps\n",
        "\n",
        "y, t = fe(l,y0,t0,tf,0.1)\n",
        "_ = plot(t,y, 'o-')\n",
        "_ = plot(s,exact(s))\n",
        "\n",
        "error = numpy.linalg.norm(exact(t) - y, 2)\n",
        "print(error)"
      ]
    },
    {
      "cell_type": "markdown",
      "metadata": {
        "id": "aswsd9IcUE3g"
      },
      "source": [
        "### Backward Euler\n",
        "\n",
        "$$\n",
        "\\frac{y_{n}-y_{n-1}}{h} = f(y_{n}, t_{n})\n",
        "$$"
      ]
    },
    {
      "cell_type": "code",
      "execution_count": 7,
      "metadata": {
        "scrolled": false,
        "id": "OHk5C_P0UE3i",
        "outputId": "15b51d4d-15f1-4534-acc5-f15bbc1b32ff",
        "colab": {
          "base_uri": "https://localhost:8080/",
          "height": 283
        }
      },
      "outputs": [
        {
          "output_type": "stream",
          "name": "stdout",
          "text": [
            "0.07656500327300209\n"
          ]
        },
        {
          "output_type": "display_data",
          "data": {
            "image/png": "[encoded data removed]",
            "text/plain": [
              "<Figure size 432x288 with 1 Axes>"
            ]
          },
          "metadata": {
            "needs_background": "light"
          }
        }
      ],
      "source": [
        "def be(l,y0,t0,tf,h):\n",
        "    timesteps = arange(t0, tf+1e-10, h)\n",
        "    sol = zeros_like(timesteps)\n",
        "    sol[0] = y0\n",
        "    for i in range(1, len(sol)):\n",
        "        sol[i] = sol[i-1]/(1-l*h)\n",
        "\n",
        "    return sol, timesteps\n",
        "\n",
        "y,t = be(l, y0, t0, tf, 0.1)\n",
        "_ = plot(t, y, 'o-')\n",
        "_ = plot(s, exact(s))\n",
        "\n",
        "error = numpy.linalg.norm(exact(t)-y, infty)\n",
        "print(error)"
      ]
    },
    {
      "cell_type": "markdown",
      "metadata": {
        "id": "oaELUl28UE3k"
      },
      "source": [
        "### $\\theta$-method\n",
        "\n",
        "$$\n",
        "\\frac{y_{n}-y_{n-1}}{h} = \\theta\\, f(y_{n}, t_{n}) + (1-\\theta)\\,f(y_{n-1}, t_{n-1})\n",
        "$$"
      ]
    },
    {
      "cell_type": "code",
      "execution_count": 8,
      "metadata": {
        "id": "rK81i4hrUE3l",
        "outputId": "f95d5f96-89a2-4b95-b724-fa24ae478dcf",
        "colab": {
          "base_uri": "https://localhost:8080/",
          "height": 283
        }
      },
      "outputs": [
        {
          "output_type": "stream",
          "name": "stdout",
          "text": [
            "0.0276016633936646\n"
          ]
        },
        {
          "output_type": "display_data",
          "data": {
            "image/png": "[encoded data removed]",
            "text/plain": [
              "<Figure size 432x288 with 1 Axes>"
            ]
          },
          "metadata": {
            "needs_background": "light"
          }
        }
      ],
      "source": [
        "def tm(theta,l,y0,t0,tf,h):\n",
        "    timesteps = arange(t0, tf+1e-10, h)\n",
        "    sol = zeros_like(timesteps)\n",
        "    sol[0] = y0\n",
        "    for i in range(1, len(sol)):\n",
        "        sol[i] = theta*sol[i-1]/(1-l*h) + (1. - theta)*sol[i-1]*(1+l*h)\n",
        "\n",
        "    return sol, timesteps\n",
        "\n",
        "y,t = tm(0.5, l, y0, t0, tf, 0.1)\n",
        "_ = plot(t, y, 'o-')\n",
        "_ = plot(s, exact(s))\n",
        "\n",
        "error = numpy.linalg.norm(exact(t) - y, infty)\n",
        "print(error)"
      ]
    },
    {
      "cell_type": "markdown",
      "metadata": {
        "id": "XPG4kxxjUE3m"
      },
      "source": [
        "### Simple adaptive time stepper\n",
        "\n",
        "For each time step:\n",
        "- Compute solution with CN\n",
        "- Compute solution with BE\n",
        "- Check the difference\n",
        "- If the difference satisfy a given tolerance:\n",
        "    - keep the solution of higher order\n",
        "    - double the step size\n",
        "    - go to the next step\n",
        "- Else:\n",
        "    - half the step size and repeat the time step"
      ]
    },
    {
      "cell_type": "code",
      "execution_count": 10,
      "metadata": {
        "id": "Tsqkg26UUE3n",
        "outputId": "de490026-bb4a-4218-f943-38f0baad79fa",
        "colab": {
          "base_uri": "https://localhost:8080/",
          "height": 283
        }
      },
      "outputs": [
        {
          "output_type": "stream",
          "name": "stdout",
          "text": [
            "0.0008172984219047868 74\n"
          ]
        },
        {
          "output_type": "display_data",
          "data": {
            "image/png": "[encoded data removed]",
            "text/plain": [
              "<Figure size 432x288 with 1 Axes>"
            ]
          },
          "metadata": {
            "needs_background": "light"
          }
        }
      ],
      "source": [
        "def adaptive(l,y0,t0,tf,h0, hmax=0.9,tol=1e-3):\n",
        "    sol = []\n",
        "    sol.append(y0)\n",
        "    t = []\n",
        "    t.append(t0)\n",
        "    h = h0\n",
        "    while t[-1] < tf:\n",
        "        #print 'current t =', t[-1], '            h=', h\n",
        "        current_sol = sol[-1]\n",
        "        current_t = t[-1]\n",
        "        sol_cn, _ = tm(0.5,l,current_sol,current_t, current_t + h, h)\n",
        "        sol_be, _ = tm(1.,l,current_sol,current_t, current_t + h, h)\n",
        "        \n",
        "        if (abs(sol_cn[-1] - sol_be[-1]) < tol): #accept\n",
        "            sol.append(sol_cn[-1])\n",
        "            t.append(current_t+h)\n",
        "            h *= 2.\n",
        "            if h > hmax:\n",
        "                h=hmax\n",
        "        else:\n",
        "            h /= 2.\n",
        "            \n",
        "    return sol, t\n",
        "\n",
        "y,t = adaptive(l,y0,t0,tf,0.9)\n",
        "_ = plot(t,y, 'o-')\n",
        "_ = plot(s,exact(array(s)))\n",
        "\n",
        "error = numpy.linalg.norm(exact(array(t)) - y, infty)\n",
        "print(error, len(y))"
      ]
    }
  ],
  "metadata": {
    "anaconda-cloud": {},
    "kernelspec": {
      "display_name": "Python 3",
      "language": "python",
      "name": "python3"
    },
    "language_info": {
      "codemirror_mode": {
        "name": "ipython",
        "version": 3
      },
      "file_extension": ".py",
      "mimetype": "text/x-python",
      "name": "python",
      "nbconvert_exporter": "python",
      "pygments_lexer": "ipython3",
      "version": "3.7.3"
    },
    "colab": {
      "name": "GR_lab06a_ODEs_1.ipynb",
      "provenance": []
    }
  },
  "nbformat": 4,
  "nbformat_minor": 0
}