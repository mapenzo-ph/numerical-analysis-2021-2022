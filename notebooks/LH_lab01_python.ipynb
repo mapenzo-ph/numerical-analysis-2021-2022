{
 "cells": [
  {
   "cell_type": "code",
   "execution_count": 1,
   "id": "cc7c6370",
   "metadata": {},
   "outputs": [
    {
     "name": "stdout",
     "output_type": "stream",
     "text": [
      "Hello, world!\n"
     ]
    }
   ],
   "source": [
    "#Hello world: classical version\n",
    "print(\"Hello, world!\")"
   ]
  },
  {
   "cell_type": "code",
   "execution_count": 2,
   "id": "bcee0408",
   "metadata": {},
   "outputs": [
    {
     "name": "stdout",
     "output_type": "stream",
     "text": [
      "Peppe\n"
     ]
    }
   ],
   "source": [
    "#Hello world: alternate stupid version\n",
    "if False:\n",
    "    print(\"Ciao\")\n",
    "else:\n",
    "    print(\"Peppe\")"
   ]
  },
  {
   "cell_type": "code",
   "execution_count": 7,
   "id": "00bc33dc",
   "metadata": {},
   "outputs": [],
   "source": [
    "a = 12\n",
    "b = \"Ciao\"\n",
    "c = 5.768"
   ]
  },
  {
   "cell_type": "code",
   "execution_count": 8,
   "id": "53fa6f6f",
   "metadata": {},
   "outputs": [
    {
     "data": {
      "text/plain": [
       "False"
      ]
     },
     "execution_count": 8,
     "metadata": {},
     "output_type": "execute_result"
    }
   ],
   "source": [
    "a == b"
   ]
  },
  {
   "cell_type": "code",
   "execution_count": 9,
   "id": "e9745193",
   "metadata": {},
   "outputs": [
    {
     "name": "stdout",
     "output_type": "stream",
     "text": [
      "12\n",
      "Ciao\n"
     ]
    }
   ],
   "source": [
    "print(a)\n",
    "print(b)"
   ]
  },
  {
   "cell_type": "code",
   "execution_count": 11,
   "id": "fc7f895e",
   "metadata": {},
   "outputs": [
    {
     "name": "stdout",
     "output_type": "stream",
     "text": [
      "2.4\n"
     ]
    }
   ],
   "source": [
    "a = 12\n",
    "b = 5\n",
    "c = 12/5  # this calls the __div__(a,b) function, the result type changes in py2/3\n",
    "print(c)"
   ]
  },
  {
   "cell_type": "code",
   "execution_count": 13,
   "id": "109b41b6",
   "metadata": {},
   "outputs": [
    {
     "name": "stdout",
     "output_type": "stream",
     "text": [
      "2\n"
     ]
    }
   ],
   "source": [
    "# If we want to perform integer division (floor) division, we must use\n",
    "c = a//b\n",
    "print(c)"
   ]
  },
  {
   "cell_type": "code",
   "execution_count": 18,
   "id": "c61d1823",
   "metadata": {},
   "outputs": [],
   "source": [
    "# Strings\n",
    "a = \"Hello world.\"\n",
    "b = 'This is \"a string inside\" a string'\n",
    "c = \"\"\"This is \n",
    "a multiline \n",
    "string\n",
    "BITCH\n",
    "\"\"\""
   ]
  },
  {
   "cell_type": "code",
   "execution_count": 19,
   "id": "7dcb5150",
   "metadata": {},
   "outputs": [
    {
     "name": "stdout",
     "output_type": "stream",
     "text": [
      "Hello world.\n",
      "This is \"a string inside\" a string\n",
      "This is \n",
      "a multiline \n",
      "string\n",
      "BITCH\n",
      "\n"
     ]
    }
   ],
   "source": [
    "print(a)\n",
    "print(b)\n",
    "print(c)\n"
   ]
  },
  {
   "cell_type": "code",
   "execution_count": 20,
   "id": "86d9e777",
   "metadata": {},
   "outputs": [],
   "source": [
    "# Skipped part on basic types etc..."
   ]
  },
  {
   "cell_type": "code",
   "execution_count": 21,
   "id": "d57ff4a2",
   "metadata": {},
   "outputs": [
    {
     "name": "stdout",
     "output_type": "stream",
     "text": [
      "1.0\n"
     ]
    }
   ],
   "source": [
    "# Now onto the numerical part\n",
    "from math import pi, cos\n",
    "a = cos(pi*2)\n",
    "print(a)"
   ]
  },
  {
   "cell_type": "code",
   "execution_count": 23,
   "id": "2120f0ec",
   "metadata": {},
   "outputs": [
    {
     "name": "stdout",
     "output_type": "stream",
     "text": [
      "Populating the interactive namespace from numpy and matplotlib\n"
     ]
    },
    {
     "name": "stderr",
     "output_type": "stream",
     "text": [
      "/usr/local/lib/python3.9/site-packages/IPython/core/magics/pylab.py:159: UserWarning: pylab import has clobbered these variables: ['pi', 'cos']\n",
      "`%matplotlib` prevents importing * from pylab and numpy\n",
      "  warn(\"pylab import has clobbered these variables: %s\"  % clobbered +\n"
     ]
    }
   ],
   "source": [
    "%pylab inline"
   ]
  },
  {
   "cell_type": "code",
   "execution_count": 31,
   "id": "7d38def5",
   "metadata": {},
   "outputs": [],
   "source": [
    "x = [0, 0.5, 2, 4, 5, 6, 7]\n",
    "y = []"
   ]
  },
  {
   "cell_type": "code",
   "execution_count": 32,
   "id": "a1bb01de",
   "metadata": {},
   "outputs": [
    {
     "name": "stdout",
     "output_type": "stream",
     "text": [
      "7\n",
      "\n",
      "\n",
      "0\n",
      "0.5\n",
      "2\n",
      "4\n",
      "5\n",
      "6\n",
      "7\n"
     ]
    }
   ],
   "source": [
    "print(len(x))\n",
    "print(\"\\n\")\n",
    "# C way to access list elements\n",
    "for i in range(len(x)):\n",
    "    print(x[i])"
   ]
  },
  {
   "cell_type": "code",
   "execution_count": 33,
   "id": "93c55b98",
   "metadata": {},
   "outputs": [
    {
     "name": "stdout",
     "output_type": "stream",
     "text": [
      "0\n",
      "0.5\n",
      "2\n",
      "4\n",
      "5\n",
      "6\n",
      "7\n"
     ]
    }
   ],
   "source": [
    "# Python way to access list elements\n",
    "for el in x:\n",
    "    print(el)"
   ]
  },
  {
   "cell_type": "code",
   "execution_count": 34,
   "id": "0a96dc89",
   "metadata": {},
   "outputs": [],
   "source": [
    "for el in x:\n",
    "    y.append(cos(el))"
   ]
  },
  {
   "cell_type": "code",
   "execution_count": 35,
   "id": "dde5d508",
   "metadata": {},
   "outputs": [
    {
     "data": {
      "text/plain": [
       "[<matplotlib.lines.Line2D at 0x145d8faf0>]"
      ]
     },
     "execution_count": 35,
     "metadata": {},
     "output_type": "execute_result"
    },
    {
     "data": {
      "image/png": "[encoded data removed]",
      "text/plain": [
       "<Figure size 432x288 with 1 Axes>"
      ]
     },
     "metadata": {
      "needs_background": "light"
     },
     "output_type": "display_data"
    }
   ],
   "source": [
    "plot(x,y)"
   ]
  },
  {
   "cell_type": "code",
   "execution_count": 41,
   "id": "b50f61d4",
   "metadata": {},
   "outputs": [
    {
     "name": "stdout",
     "output_type": "stream",
     "text": [
      "200\n"
     ]
    }
   ],
   "source": [
    "# More detailed graph\n",
    "dx = 0.05\n",
    "N = 200\n",
    "x = [i*dx for i in range(N)]\n",
    "print(len(x))\n",
    "y = [cos(2*pi*el) for el in x]"
   ]
  },
  {
   "cell_type": "code",
   "execution_count": 42,
   "id": "3fa545a1",
   "metadata": {},
   "outputs": [
    {
     "data": {
      "text/plain": [
       "[<matplotlib.lines.Line2D at 0x145f6fd90>]"
      ]
     },
     "execution_count": 42,
     "metadata": {},
     "output_type": "execute_result"
    },
    {
     "data": {
      "image/png": "[encoded data removed]",
      "text/plain": [
       "<Figure size 432x288 with 1 Axes>"
      ]
     },
     "metadata": {
      "needs_background": "light"
     },
     "output_type": "display_data"
    }
   ],
   "source": [
    "plot(x,y)"
   ]
  },
  {
   "cell_type": "code",
   "execution_count": 43,
   "id": "0273671e",
   "metadata": {},
   "outputs": [],
   "source": [
    "# But lists are not good when dealing with objects of the same type\n",
    "# i.e. numbers in this case. It's better to use numpy arrays (next)"
   ]
  },
  {
   "cell_type": "code",
   "execution_count": 44,
   "id": "64d941f5",
   "metadata": {},
   "outputs": [],
   "source": [
    "# Now definie a function\n",
    "def twice(arg):\n",
    "    \"\"\"\n",
    "    Short doc: double the argument\n",
    "    \n",
    "    Long doc: take any input and try to double it.\n",
    "    \"\"\"\n",
    "    return 2*arg"
   ]
  },
  {
   "cell_type": "code",
   "execution_count": 46,
   "id": "0bc07473",
   "metadata": {},
   "outputs": [],
   "source": [
    "twice?"
   ]
  },
  {
   "cell_type": "code",
   "execution_count": null,
   "id": "20dfa790",
   "metadata": {},
   "outputs": [],
   "source": []
  }
 ],
 "metadata": {
  "kernelspec": {
   "display_name": "Python 3 (ipykernel)",
   "language": "python",
   "name": "python3"
  },
  "language_info": {
   "codemirror_mode": {
    "name": "ipython",
    "version": 3
   },
   "file_extension": ".py",
   "mimetype": "text/x-python",
   "name": "python",
   "nbconvert_exporter": "python",
   "pygments_lexer": "ipython3",
   "version": "3.9.7"
  }
 },
 "nbformat": 4,
 "nbformat_minor": 5
}
