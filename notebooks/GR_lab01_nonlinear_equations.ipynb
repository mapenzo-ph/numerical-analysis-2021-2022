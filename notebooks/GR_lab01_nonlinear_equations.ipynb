{
  "cells": [
    {
      "cell_type": "markdown",
      "metadata": {
        "ein.tags": [
          "worksheet-0"
        ],
        "id": "yGCHyLEu5XH0"
      },
      "source": [
        "# Nonlinear Equations\n",
        "\n",
        "We want to find a root of the nonlinear function $f$ using different methods.\n",
        "\n",
        "1. Bisection method\n",
        "2. Newton method\n",
        "3. Chord method\n",
        "4. Secant method\n",
        "5. Fixed point iterations\n",
        "\n",
        "\n",
        "\n"
      ]
    },
    {
      "cell_type": "code",
      "execution_count": null,
      "metadata": {
        "id": "hyVj27g35XH7"
      },
      "outputs": [],
      "source": [
        "%matplotlib inline\n",
        "from numpy import *\n",
        "from matplotlib.pyplot import *\n",
        "import sympy as sym\n"
      ]
    },
    {
      "cell_type": "code",
      "execution_count": null,
      "metadata": {
        "autoscroll": "json-false",
        "ein.tags": [
          "worksheet-0"
        ],
        "id": "vbijsyPF5XH9",
        "outputId": "3defb862-71d7-4d4d-a8db-3df9e60a3943",
        "colab": {
          "base_uri": "https://localhost:8080/",
          "height": 265
        }
      },
      "outputs": [
        {
          "output_type": "display_data",
          "data": {
            "image/png": "[encoded data removed]",
            "text/plain": [
              "<Figure size 432x288 with 1 Axes>"
            ]
          },
          "metadata": {
            "needs_background": "light"
          }
        }
      ],
      "source": [
        "t = sym.symbols('t')\n",
        "\n",
        "f_sym = t/8. * (63.*t**4 - 70.*t**2. +15.) # Legendre polynomial of order 5\n",
        "\n",
        "f_prime_sym = sym.diff(f_sym,t)\n",
        "\n",
        "f = sym.lambdify(t, f_sym, 'numpy')\n",
        "f_prime = sym.lambdify(t,f_prime_sym, 'numpy')\n",
        "\n",
        "#phi = lambda x : 63./70.*x**3 + 15./(70.*x)\n",
        "#phi = lambda x : 70.0/15.0*x**3 - 63.0/15.0*x**5\n",
        "phi = lambda x : sqrt((63.*x**4 + 15.0)/70.)\n",
        "\n",
        "# Let's plot\n",
        "n = 1025\n",
        "\n",
        "x = linspace(-1,1,n)\n",
        "c = zeros_like(x)\n",
        "\n",
        "_ = plot(x,f(x))\n",
        "_ = plot(x,c)\n",
        "_ = grid()\n"
      ]
    },
    {
      "cell_type": "code",
      "execution_count": null,
      "metadata": {
        "id": "aLOKf3qP5XH-"
      },
      "outputs": [],
      "source": [
        "# Initial data for the variuos algorithms\n",
        "\n",
        "# interval in which we seek the solution \n",
        "a = 0.7\n",
        "b = 1.\n",
        "\n",
        "# initial points\n",
        "x0 = (a+b)/2.0\n",
        "x00 = b\n"
      ]
    },
    {
      "cell_type": "code",
      "execution_count": null,
      "metadata": {
        "id": "MJBp06gB5XH_"
      },
      "outputs": [],
      "source": [
        "# stopping criteria\n",
        "eps = 1e-10 # tolerance\n",
        "n_max = 1000 # maximum number of iterations"
      ]
    },
    {
      "cell_type": "markdown",
      "metadata": {
        "id": "bTHYSnb_5XIA"
      },
      "source": [
        "## Bisection method\n",
        "\n",
        "$$\n",
        "x^k = \\frac{a^k+b^k}{2}\n",
        "$$\n",
        "```\n",
        "                   if (f(a_k) * f(x_k)) < 0:\n",
        "                      b_k1 = x_k\n",
        "                      a_k1 = a_k\n",
        "                   else:\n",
        "                      a_k1 = x_k\n",
        "                      b_k1 = b_k\n",
        "```"
      ]
    },
    {
      "cell_type": "code",
      "execution_count": null,
      "metadata": {
        "id": "qqhvEWiY5XIB",
        "outputId": "7e2a7f1f-a3ba-4238-b4e9-44bb31175d67",
        "colab": {
          "base_uri": "https://localhost:8080/",
          "height": 354
        }
      },
      "outputs": [
        {
          "output_type": "stream",
          "name": "stdout",
          "text": [
            "32\n",
            "0.9061798459501006\n",
            "7.857261621871514e-11\n",
            "CPU times: user 28.2 ms, sys: 0 ns, total: 28.2 ms\n",
            "Wall time: 29.3 ms\n"
          ]
        },
        {
          "output_type": "display_data",
          "data": {
            "image/png": "[encoded data removed]",
            "text/plain": [
              "<Figure size 432x288 with 1 Axes>"
            ]
          },
          "metadata": {
            "needs_background": "light"
          }
        }
      ],
      "source": [
        "def bisect(f,a,b,eps,n_max):\n",
        "    assert f(a)*f(b)<0\n",
        "    a_new = a\n",
        "    b_new = b\n",
        "    x = mean([a,b])\n",
        "    err = eps + 1. # set for first iteration\n",
        "    errors = [err]\n",
        "    it = 0\n",
        "    while (err > eps and it < n_max):\n",
        "        if ( f(a_new) * f(x) < 0 ):\n",
        "            # root in (a_new,x)\n",
        "            b_new = x\n",
        "        else:\n",
        "            # root in (x,b_new)\n",
        "            a_new = x\n",
        "        \n",
        "        x_new = mean([a_new,b_new])\n",
        "        \n",
        "        #err = 0.5 *(b_new -a_new)\n",
        "        err = abs(f(x_new))\n",
        "        #err = abs(x-x_new)\n",
        "        \n",
        "        errors.append(err)\n",
        "        x = x_new\n",
        "        it += 1\n",
        "    \n",
        "    semilogy(errors)\n",
        "    print(it)\n",
        "    print(x)\n",
        "    print(err)\n",
        "    return errors\n",
        "\n",
        "          \n",
        "%time errors_bisect = bisect(f,a,b,eps,n_max)"
      ]
    },
    {
      "cell_type": "code",
      "execution_count": null,
      "metadata": {
        "id": "yj541L8B5XIC"
      },
      "outputs": [],
      "source": [
        "# is the number of iterations coherent with the theoretical estimation?"
      ]
    },
    {
      "cell_type": "markdown",
      "metadata": {
        "id": "SGS_2uvU5XID"
      },
      "source": [
        "In order to find out other methods for solving non-linear equations, let's compute the Taylor's series of $f(x^k)$ up to the first order \n",
        "\n",
        "$$\n",
        "f(x^k) \\simeq f(x^k) + (x-x^k)f^{\\prime}(x^k)\n",
        "$$\n",
        "which suggests the following iterative scheme\n",
        "$$\n",
        "x^{k+1} = x^k - \\frac{f(x^k)}{f^{\\prime}(x^k)}\n",
        "$$\n",
        "\n",
        "The following methods are obtained applying the above scheme where\n",
        "\n",
        "$$\n",
        "f^{\\prime}(x^k) \\approx q^k\n",
        "$$"
      ]
    },
    {
      "cell_type": "markdown",
      "metadata": {
        "id": "A_hW-cKE5XIG"
      },
      "source": [
        "## Newton's method\n",
        "$$\n",
        "q^k = f^{\\prime}(x^k)\n",
        "$$\n",
        "\n",
        "$$\n",
        "x^{k+1} = x^k - \\frac{f(x^k)}{q^k}\n",
        "$$"
      ]
    },
    {
      "cell_type": "code",
      "execution_count": null,
      "metadata": {
        "id": "5jhq-vFw5XIH",
        "outputId": "77d3c8d3-e1f6-4b7a-9b12-ef39dd71c3ce",
        "colab": {
          "base_uri": "https://localhost:8080/",
          "height": 354
        }
      },
      "outputs": [
        {
          "output_type": "stream",
          "name": "stdout",
          "text": [
            "5\n",
            "0.9061798459386647\n",
            "5.633945684709343e-15\n",
            "CPU times: user 26.8 ms, sys: 0 ns, total: 26.8 ms\n",
            "Wall time: 27.8 ms\n"
          ]
        },
        {
          "output_type": "display_data",
          "data": {
            "image/png": "[encoded data removed]",
            "text/plain": [
              "<Figure size 432x288 with 1 Axes>"
            ]
          },
          "metadata": {
            "needs_background": "light"
          }
        }
      ],
      "source": [
        "def newton(f,f_prime,x0,eps,n_max):\n",
        "    assert abs(f_prime(x0)) > 1e-16\n",
        "    err = abs(f(x0))\n",
        "    errors = [err]\n",
        "    it = 0\n",
        "    x = x0\n",
        "    while (err > eps and it < n_max):\n",
        "        # check divisor is not too small\n",
        "        qk = f_prime(x)\n",
        "        if abs(qk) < 1e-12:\n",
        "            raise RuntimeError(\"f_prime(x) is close to zero\")\n",
        "        \n",
        "        # get new value of x and error\n",
        "        x_new = x - f(x)/qk \n",
        "        err = abs(f(x_new))\n",
        "        \n",
        "        # updtating \n",
        "        x = x_new\n",
        "        errors.append(err)\n",
        "        it += 1\n",
        "\n",
        "    semilogy(errors)\n",
        "    print(it)\n",
        "    print(x)\n",
        "    print(err)\n",
        "    return errors\n",
        "\n",
        "\n",
        "%time errors_newton = newton(f,f_prime,1.0,eps,n_max)"
      ]
    },
    {
      "cell_type": "markdown",
      "metadata": {
        "id": "fciTdlOP5XII"
      },
      "source": [
        "## Chord method\n",
        "\n",
        "$$\n",
        "q^k \\equiv q = \\frac{f(b)-f(a)}{b-a}\n",
        "$$\n",
        "\n",
        "$$\n",
        "x^{k+1} = x^k - \\frac{f(x^k)}{q}\n",
        "$$"
      ]
    },
    {
      "cell_type": "code",
      "execution_count": null,
      "metadata": {
        "autoscroll": "json-false",
        "ein.tags": [
          "worksheet-0"
        ],
        "id": "dKZDqAkU5XIJ",
        "outputId": "55aa3c6f-f3c5-48b8-edb2-4c41a69ac4f3",
        "colab": {
          "base_uri": "https://localhost:8080/",
          "height": 354
        }
      },
      "outputs": [
        {
          "output_type": "stream",
          "name": "stdout",
          "text": [
            "31\n",
            "0.9061798459502479\n",
            "7.958511674322147e-11\n",
            "CPU times: user 26.3 ms, sys: 0 ns, total: 26.3 ms\n",
            "Wall time: 26.4 ms\n"
          ]
        },
        {
          "output_type": "display_data",
          "data": {
            "image/png": "[encoded data removed]",
            "text/plain": [
              "<Figure size 432x288 with 1 Axes>"
            ]
          },
          "metadata": {
            "needs_background": "light"
          }
        }
      ],
      "source": [
        "def chord(f,a,b,x0,eps,n_max):\n",
        "    q = (f(b)-f(a))/(b-a)\n",
        "    assert abs(q) > 1e-16\n",
        "    err = eps + 1.0\n",
        "    errors = [err]\n",
        "    it = 0\n",
        "    x = x0\n",
        "    while (err > eps and it < n_max):\n",
        "        # get new value of x and error\n",
        "        x_new = x - f(x)/q\n",
        "        err = abs(f(x_new))\n",
        "\n",
        "        #updating\n",
        "        x = x_new\n",
        "        errors.append(err)\n",
        "        it += 1\n",
        "\n",
        "    semilogy(errors)\n",
        "    print(it)\n",
        "    print(x)\n",
        "    print(err)\n",
        "    return errors\n",
        "\n",
        "\n",
        "%time errors_chord = chord (f,a,b,x0,eps,n_max)"
      ]
    },
    {
      "cell_type": "markdown",
      "metadata": {
        "id": "jLgBu1a-5XIJ"
      },
      "source": [
        "## Secant method\n",
        "\n",
        "$$\n",
        "q^k = \\frac{f(x^k)-f(x^{k-1})}{x^k - x^{k-1}}\n",
        "$$\n",
        "\n",
        "$$\n",
        "x^{k+1} = x^k - \\frac{f(x^k)}{q^k}\n",
        "$$\n",
        "\n",
        "Note that this algorithm requirs **two** initial points"
      ]
    },
    {
      "cell_type": "code",
      "execution_count": null,
      "metadata": {
        "id": "W5u4XBdA5XIK",
        "outputId": "07a87060-366f-401e-8d34-6f059436028a",
        "colab": {
          "base_uri": "https://localhost:8080/",
          "height": 373
        }
      },
      "outputs": [
        {
          "output_type": "stream",
          "name": "stdout",
          "text": [
            "7\n",
            "[-1.         -0.99804688 -0.99609375 ...  0.99609375  0.99804688\n",
            "  1.        ]\n",
            "6.433087396118253e-11\n",
            "CPU times: user 27.2 ms, sys: 0 ns, total: 27.2 ms\n",
            "Wall time: 27.3 ms\n"
          ]
        },
        {
          "output_type": "display_data",
          "data": {
            "image/png": "[encoded data removed]",
            "text/plain": [
              "<Figure size 432x288 with 1 Axes>"
            ]
          },
          "metadata": {
            "needs_background": "light"
          }
        }
      ],
      "source": [
        "def secant(f,x0,x00,eps,n_max):\n",
        "    err = eps + 1.0\n",
        "    errors = [err]\n",
        "    it = 0\n",
        "    xk = x0\n",
        "    xkk = x00\n",
        "    while (err > eps and it < n_max):\n",
        "        # get divisor\n",
        "        qk = (f(xk) - f(xkk)) / (xk - xkk)\n",
        "\n",
        "        # get new value of x and error\n",
        "        x_new = xk - f(xk)/qk\n",
        "        err = abs(x_new - xk)\n",
        "\n",
        "        # updating\n",
        "        xkk = xk\n",
        "        xk = x_new\n",
        "        errors.append(err)\n",
        "        it += 1\n",
        "    \n",
        "    semilogy(errors)\n",
        "    print(it)\n",
        "    print(x)\n",
        "    print(err)\n",
        "    return errors\n",
        "\n",
        "\n",
        "%time errors_secant = secant(f,x0,x00,eps,n_max)"
      ]
    },
    {
      "cell_type": "markdown",
      "metadata": {
        "id": "_fFw6lb75XIL"
      },
      "source": [
        "## Fixed point iterations\n",
        "\n",
        "$$\n",
        "f(x)=0 \\to x-\\phi(x)=0\n",
        "$$\n",
        "\n",
        "$$\n",
        "x^{k+1} = \\phi(x^k)\n",
        "$$"
      ]
    },
    {
      "cell_type": "code",
      "execution_count": null,
      "metadata": {
        "id": "esQXOfkT5XIL",
        "outputId": "d58ba639-ddf6-4f4c-90e8-7f6de9bc20b5",
        "colab": {
          "base_uri": "https://localhost:8080/",
          "height": 373
        }
      },
      "outputs": [
        {
          "output_type": "stream",
          "name": "stdout",
          "text": [
            "32\n",
            "[-1.         -0.99804688 -0.99609375 ...  0.99609375  0.99804688\n",
            "  1.        ]\n",
            "8.076550539470873e-11\n",
            "CPU times: user 26.7 ms, sys: 0 ns, total: 26.7 ms\n",
            "Wall time: 27.5 ms\n"
          ]
        },
        {
          "output_type": "display_data",
          "data": {
            "image/png": "[encoded data removed]",
            "text/plain": [
              "<Figure size 432x288 with 1 Axes>"
            ]
          },
          "metadata": {
            "needs_background": "light"
          }
        }
      ],
      "source": [
        "def fixed_point(phi,x0,eps,n_max):\n",
        "    err = eps + 1.0\n",
        "    errors = [err]\n",
        "    it = 0\n",
        "    xk = x0   \n",
        "    while(err > eps and it < n_max):\n",
        "        # get new x and error\n",
        "        x_new = phi(xk)\n",
        "        err = abs(x_new - xk)\n",
        "\n",
        "        # updating\n",
        "        xk = x_new\n",
        "        errors.append(err)\n",
        "        it += 1\n",
        "    \n",
        "    semilogy(errors)\n",
        "    print(it)\n",
        "    print(x)\n",
        "    print(err)\n",
        "    return errors\n",
        "\n",
        "\n",
        "%time errors_fixed = fixed_point(phi,0.3,eps,n_max)\n",
        "        "
      ]
    },
    {
      "cell_type": "markdown",
      "metadata": {
        "id": "lZrPrRiy5XIM"
      },
      "source": [
        "## Comparison"
      ]
    },
    {
      "cell_type": "code",
      "execution_count": null,
      "metadata": {
        "id": "DOyJsQv85XIM",
        "outputId": "78d0f308-2b29-4b13-bc8f-b6c421b880a9",
        "colab": {
          "base_uri": "https://localhost:8080/",
          "height": 269
        }
      },
      "outputs": [
        {
          "output_type": "display_data",
          "data": {
            "image/png": "[encoded data removed]",
            "text/plain": [
              "<Figure size 432x288 with 1 Axes>"
            ]
          },
          "metadata": {
            "needs_background": "light"
          }
        }
      ],
      "source": [
        "# plot the error convergence for the methods\n",
        "loglog(errors_bisect, label='bisect')\n",
        "loglog(errors_chord, label='chord')\n",
        "loglog(errors_secant, label='secant')\n",
        "loglog(errors_newton, label ='newton')\n",
        "loglog(errors_fixed, label ='fixed')\n",
        "_ = legend()"
      ]
    },
    {
      "cell_type": "code",
      "execution_count": null,
      "metadata": {
        "id": "QX0jJnFf5XIM"
      },
      "outputs": [],
      "source": [
        "# Let's compare the scipy implmentation of Newton's method with our.."
      ]
    },
    {
      "cell_type": "code",
      "execution_count": null,
      "metadata": {
        "id": "lbjkcqpN5XIN",
        "outputId": "e5e10a74-6fe0-4d82-90ee-c6e7da7cffa2",
        "colab": {
          "base_uri": "https://localhost:8080/"
        }
      },
      "outputs": [
        {
          "output_type": "stream",
          "name": "stdout",
          "text": [
            "CPU times: user 341 µs, sys: 19 µs, total: 360 µs\n",
            "Wall time: 365 µs\n"
          ]
        },
        {
          "output_type": "execute_result",
          "data": {
            "text/plain": [
              "0.906179845938664"
            ]
          },
          "metadata": {},
          "execution_count": 30
        }
      ],
      "source": [
        "import scipy.optimize as opt\n",
        "%time opt.newton(f, 1.0, f_prime, tol = eps)"
      ]
    }
  ],
  "metadata": {
    "anaconda-cloud": {},
    "kernelspec": {
      "display_name": "Python 3 (ipykernel)",
      "language": "python",
      "name": "python3"
    },
    "language_info": {
      "codemirror_mode": {
        "name": "ipython",
        "version": 3
      },
      "file_extension": ".py",
      "mimetype": "text/x-python",
      "name": "python",
      "nbconvert_exporter": "python",
      "pygments_lexer": "ipython3",
      "version": "3.9.7"
    },
    "name": "07_non_linear_equations.ipynb",
    "colab": {
      "name": "Copia di GR_lab01_nonlinear_equations.ipynb",
      "provenance": []
    }
  },
  "nbformat": 4,
  "nbformat_minor": 0
}