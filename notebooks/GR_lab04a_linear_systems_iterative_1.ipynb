{
  "cells": [
    {
      "cell_type": "markdown",
      "metadata": {
        "id": "GzBB7_oP4pxe"
      },
      "source": [
        "# Iterative methods for solving linear systems\n",
        "\n",
        "\n"
      ]
    },
    {
      "cell_type": "markdown",
      "metadata": {
        "id": "k_tW3zAy4pxi"
      },
      "source": [
        "Recall the prototypal PDE problem introduced in the Lecture 08:\n",
        "$$\n",
        "-u_{xx}(x) = f(x)\\quad\\mathrm{ in }\\ \\Omega = (0, 1)\n",
        "$$\n",
        "$$\n",
        "u(x) = 0, \\quad\\mathrm{ on }\\ \\partial\\Omega = \\{0, 1\\}\n",
        "$$\n",
        "\n",
        "For the numerical discretization of the problem, we consider a **Finite Difference (FD) Approximation**. Let $n$ be an integer, a consider a uniform subdivision of the interval $(0,1)$ using $n$ equispaced points, denoted by $\\{x_i\\}_{i=0}^n$ . Moreover, let $u_i$ be the FD approximation of $u(x_i)$, and similarly $f_i \\approx f(x_i)$.\n",
        "\n",
        "The linear system that we need to solve is\n",
        "$$\n",
        "u_i = 0 \\qquad\\qquad\\qquad\\qquad i=0,\n",
        "$$\n",
        "$$\n",
        "\\frac{-u_{i-1} + 2u_i - u_{i+1}}{h^2} = f_i \\qquad\\qquad\\qquad i=1, \\ldots, n-1,\\qquad\\qquad\\qquad(P)\n",
        "$$\n",
        "$$\n",
        "u_i = 0 \\qquad\\qquad\\qquad\\qquad i=n.\n",
        "$$"
      ]
    },
    {
      "cell_type": "code",
      "execution_count": 1,
      "metadata": {
        "id": "HFHok08V4pxl"
      },
      "outputs": [],
      "source": [
        "%matplotlib inline\n",
        "from numpy import *\n",
        "from matplotlib.pyplot import *\n",
        "\n",
        "n = 33\n",
        "h = 1./(n-1)\n",
        "\n",
        "x=linspace(0,1,n)\n",
        "\n",
        "a = -ones((n-1,)) # Offdiagonal entries\n",
        "b = 2*ones((n,)) # Diagonal entries\n",
        "A = (diag(a, -1) + diag(b, 0) + diag(a, +1))\n",
        "A /= h**2\n",
        "f = x*(1.-x)\n",
        "\n",
        "# Change first row of the matrix A\n",
        "A[0,:] = 0\n",
        "A[:,0] = 0\n",
        "A[0,0] = 1\n",
        "f[0] = 0\n",
        "\n",
        "# Change last row of the matrix A\n",
        "A[-1,:] = 0\n",
        "A[:,-1] = 0\n",
        "A[-1,-1] = 1\n",
        "f[-1] = 0\n",
        "\n",
        "# Solution by direct method\n",
        "u = linalg.solve(A, f)"
      ]
    },
    {
      "cell_type": "markdown",
      "metadata": {
        "id": "_yZi_-br4pxu"
      },
      "source": [
        "## Jacobi\n",
        "\n",
        "$$ \n",
        "x_i^{k+1} = \\frac{1}{A_{ii}} \\times \\left(b_i - \\sum_{j\\neq i} a_{ij}x_j^k\\right)\n",
        "$$\n",
        "\n"
      ]
    },
    {
      "cell_type": "code",
      "execution_count": 3,
      "metadata": {
        "scrolled": true,
        "id": "Uqm0wTTp4pxv",
        "outputId": "3008c02e-d9d7-4242-f23c-992b73c17e95",
        "colab": {
          "base_uri": "https://localhost:8080/"
        }
      },
      "outputs": [
        {
          "output_type": "stream",
          "name": "stdout",
          "text": [
            "4777 9.992914657971333e-11\n",
            "9.682097967515382e-11\n"
          ]
        }
      ],
      "source": [
        "def jacobi(A, b, nmax=10000, eps=1e-10):\n",
        "    N = len(A)\n",
        "    x = zeros_like(b)\n",
        "    x_old = zeros_like(b)\n",
        "    tol = eps + 1.0\n",
        "    it = 0\n",
        "    while (it < nmax and tol > eps):\n",
        "        it += 1\n",
        "        for i in range(N):\n",
        "            x[i] = 1./A[i,i]*(b[i] - dot(A[i,:i],x_old[:i]) \n",
        "                                   - dot(A[i,i+1:N],x_old[i+1:N]))\n",
        "            \n",
        "        res = b - dot(A,x)\n",
        "        tol = linalg.norm(res,2)\n",
        "        x_old = x.copy()\n",
        "\n",
        "    print(it, tol)\n",
        "    return x\n",
        "\n",
        "\n",
        "sol_jacobi = jacobi(A, f)\n",
        "print(linalg.norm(sol_jacobi - u)/linalg.norm(u))"
      ]
    },
    {
      "cell_type": "markdown",
      "metadata": {
        "id": "mBYBRr7x4pxx"
      },
      "source": [
        "## Gauss-Seidel\n",
        "\n",
        "$$ \n",
        "x_i^{k+1} = \\frac{1}{A_{ii}} \\times \\left(b_i - \\sum_{j=0}^{i-1} a_{ij}x_j^{k+1} - \\sum_{j=i+1}^{N} a_{ij}x_j^k\\right)\n",
        "$$"
      ]
    },
    {
      "cell_type": "code",
      "execution_count": 5,
      "metadata": {
        "id": "Qkf-JkZT4pxx",
        "outputId": "36996aec-8485-42dd-9bbb-58a487cf525d",
        "colab": {
          "base_uri": "https://localhost:8080/"
        }
      },
      "outputs": [
        {
          "output_type": "stream",
          "name": "stdout",
          "text": [
            "2390 9.952932640308783e-11\n",
            "9.577313808022264e-11\n"
          ]
        }
      ],
      "source": [
        "def gauss_seidel(A, b, nmax=10000, eps=1e-10):\n",
        "    N = len(A)\n",
        "    x = zeros_like(b)\n",
        "    x_old = zeros_like(b)\n",
        "    tol = eps + 1.0\n",
        "    it = 0\n",
        "    while (it < nmax and tol > eps):\n",
        "        it += 1\n",
        "        for i in range(N):\n",
        "            x[i] = 1./A[i,i]*(b[i] - dot(A[i,:i], x[:i]) \n",
        "                                   - dot(A[i,i+1:N], x_old[i+1:N]))\n",
        "            \n",
        "        res = b - dot(A,x)\n",
        "        tol = linalg.norm(res,2)\n",
        "        x_old = x.copy()\n",
        "    \n",
        "    print(it, tol)\n",
        "    return x\n",
        "        \n",
        "\n",
        "sol_gauss_seidel = gauss_seidel(A, f)\n",
        "print(linalg.norm(sol_gauss_seidel - u)/linalg.norm(u))"
      ]
    },
    {
      "cell_type": "markdown",
      "metadata": {
        "collapsed": true,
        "id": "d7CcFqqA4pxz"
      },
      "source": [
        "   ## Gradient method\n",
        "   $$\n",
        "   {\\bf r}^k = {\\bf b} - A {\\bf x}^k\n",
        "   $$\n",
        "   \n",
        "   $$\n",
        "   \\alpha^k = \\frac{{\\bf r}^{k^{T}} {\\bf r}^k}{{\\bf r}^{k^{T}} A{\\bf r}^k}\n",
        "   $$\n",
        "   \n",
        "   $$\n",
        "   {\\bf x}^{k+1} = {\\bf x}^k + \\alpha^k {\\bf r}^k\n",
        "   $$\n",
        "   \n",
        "   ### Preconditioned gradient method\n",
        "   $$\n",
        "   P{\\bf z}^k =  {\\bf r}^k\n",
        "   $$\n",
        "   \n",
        "   $$\n",
        "   \\alpha^k = \\frac{{\\bf z}^{k^{T}} {\\bf r}^k}{{\\bf z}^{k^{T}} A{\\bf z}^k}\n",
        "   $$\n",
        " \n",
        "   $$\n",
        "   {\\bf x}^{k+1} = {\\bf x}^k + \\alpha^k {\\bf z}^k\n",
        "   $$ \n",
        "   \n",
        "   $$\n",
        "   {\\bf r}^{k+1} = {\\bf r}^k  - \\alpha^k A{\\bf z}^k\n",
        "   $$"
      ]
    },
    {
      "cell_type": "code",
      "execution_count": 6,
      "metadata": {
        "id": "2r1rbqEI4px0",
        "outputId": "9731b1de-f0ca-4a93-f05e-ab5f8563b8e4",
        "colab": {
          "base_uri": "https://localhost:8080/"
        }
      },
      "outputs": [
        {
          "output_type": "stream",
          "name": "stdout",
          "text": [
            "3909 9.947539341894685e-11\n",
            "7.0953071470574e-11\n",
            "1 1.783185031560722e-14\n",
            "6.888262765579997e-15\n"
          ]
        }
      ],
      "source": [
        "def gradient(A, b, P, nmax=8000, eps=1e-10):\n",
        "    N = len(A)\n",
        "    x = zeros_like(b)\n",
        "    tol = eps + 1.0\n",
        "    r = b - dot(A,x)\n",
        "    it = 0\n",
        "    while (it < nmax and tol > eps):\n",
        "        z = linalg.solve(P,r)\n",
        "        alpha = dot(r,z)/(dot(z,dot(A,z)))\n",
        "        x += alpha*z\n",
        "        r -= alpha*dot(A,z)\n",
        "        tol = linalg.norm(r,2)\n",
        "        it += 1\n",
        "    \n",
        "    print(it, tol)\n",
        "    return x\n",
        "    \n",
        "    \n",
        "sol_gradient = gradient(A, f, identity(len(A)))\n",
        "print(linalg.norm(sol_gradient - u)/linalg.norm(u))\n",
        "sol_preconditioned_gradient = gradient(A, f, A)\n",
        "print(linalg.norm(sol_preconditioned_gradient - u)/linalg.norm(u))"
      ]
    },
    {
      "cell_type": "markdown",
      "metadata": {
        "id": "jRuEq-io4px2"
      },
      "source": [
        "## Conjugate gradient\n",
        "   \n",
        "   $$\n",
        "   \\alpha^k = \\frac{{\\bf p}^{k^{T}} {\\bf r}^k}{{\\bf p}^{k^{T}} A{\\bf p}^k}\n",
        "   $$\n",
        "   \n",
        "      \n",
        "   $$\n",
        "   {\\bf x}^{k+1} = {\\bf x}^k + \\alpha^k {\\bf p}^k\n",
        "   $$\n",
        "   \n",
        "   $$\n",
        "   {\\bf r}^{k+1} = {\\bf r}^k - \\alpha^kA {\\bf p}^k\n",
        "   $$\n",
        "\n",
        "   $$\n",
        "   \\beta^k = \\frac{(A{\\bf p}^{k})^{T}{\\bf r}^{k+1}}{(A{\\bf p}^{k})^{T}  {\\bf p}^k}\n",
        "   $$\n",
        "   \n",
        "   $$\n",
        "   {\\bf p}^{k+1} = {\\bf r}^{k+1} - \\beta^k{\\bf p}^k\n",
        "   $$\n",
        "\n",
        "   \n",
        "   ### Preconditioned conjugate gradient\n",
        "   \n",
        "   \n",
        "   $$\n",
        "   \\alpha^k = \\frac{{\\bf p}^{k^{T}} {\\bf r}^k}{(A{\\bf p}^{k})^{T}{\\bf p}^k}\n",
        "   $$\n",
        "   \n",
        "      \n",
        "   $$\n",
        "   {\\bf x}^{k+1} = {\\bf x}^k + \\alpha^k {\\bf p}^k\n",
        "   $$\n",
        "   \n",
        "   $$\n",
        "   {\\bf r}^{k+1} = {\\bf r}^k - \\alpha^kA {\\bf p}^k\n",
        "   $$\n",
        "\n",
        "$$\n",
        "P{\\bf z}^{k+1} = {\\bf r}^{k+1}\n",
        "$$\n",
        "\n",
        "   $$\n",
        "   \\beta^k = \\frac{(A{\\bf p}^{k})^{T}{\\bf z}^{k+1}}{{\\bf p}^{k^T}A  {\\bf p}^k}\n",
        "   $$\n",
        "   \n",
        "   $$\n",
        "   {\\bf p}^{k+1} = {\\bf z}^{k+1} - \\beta^k{\\bf p}^k\n",
        "   $$\n"
      ]
    },
    {
      "cell_type": "code",
      "execution_count": 7,
      "metadata": {
        "id": "ZBhfh4Kc4px3",
        "outputId": "ed7b07f0-4f6f-4a7e-bec6-ef78f9ce7504",
        "colab": {
          "base_uri": "https://localhost:8080/"
        }
      },
      "outputs": [
        {
          "output_type": "stream",
          "name": "stdout",
          "text": [
            "16 7.53919675357307e-17\n",
            "2.9030318378385336e-15\n"
          ]
        }
      ],
      "source": [
        "def conjugate_gradient(A, b, P, nmax=len(A), eps=1e-10):\n",
        "    N = len(A)\n",
        "    x = zeros_like(b)\n",
        "    r = b - dot(A,x)\n",
        "    rho_old = 1.\n",
        "    p_old = zeros_like(b)\n",
        "    tol = eps + 1.0\n",
        "    it = 0\n",
        "    while (it < nmax and tol > eps):\n",
        "        it += 1\n",
        "        z = linalg.solve(P,r)\n",
        "        rho = dot(r,z)\n",
        "        if (it > 1):\n",
        "            beta = rho/rho_old\n",
        "            p = z + beta*p_old\n",
        "        else:\n",
        "            p = z\n",
        "        q = dot(A,p)\n",
        "        alpha = rho/dot(p,q)\n",
        "        \n",
        "        x += p*alpha\n",
        "        r -= q*alpha\n",
        "        p_old = p\n",
        "        rho_old = rho\n",
        "        tol = linalg.norm(r,2)\n",
        "\n",
        "    print(it, tol)\n",
        "    return x\n",
        "\n",
        "\n",
        "sol_conjugate_gradient = conjugate_gradient(A, f, identity(len(A)))\n",
        "print(linalg.norm(sol_conjugate_gradient - u)/linalg.norm(u))"
      ]
    }
  ],
  "metadata": {
    "anaconda-cloud": {},
    "kernelspec": {
      "display_name": "Python 3",
      "language": "python",
      "name": "python3"
    },
    "language_info": {
      "codemirror_mode": {
        "name": "ipython",
        "version": 3
      },
      "file_extension": ".py",
      "mimetype": "text/x-python",
      "name": "python",
      "nbconvert_exporter": "python",
      "pygments_lexer": "ipython3",
      "version": "3.6.3"
    },
    "colab": {
      "name": "GR_lab04a_linear_systems_iterative_1.ipynb",
      "provenance": []
    }
  },
  "nbformat": 4,
  "nbformat_minor": 0
}