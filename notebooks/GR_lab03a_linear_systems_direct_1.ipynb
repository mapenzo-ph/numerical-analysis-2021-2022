{
  "cells": [
    {
      "cell_type": "markdown",
      "metadata": {
        "id": "3a0UEZSNdxL5"
      },
      "source": [
        "# Direct methods for solving linear systems"
      ]
    },
    {
      "cell_type": "markdown",
      "metadata": {
        "id": "Hpt5Xt9SdxME"
      },
      "source": [
        "Recall the prototypal PDE problem introduce in the Lecture 08:\n",
        "$$\n",
        "-u_{xx}(x) = f(x)\\quad\\mathrm{ in }\\ \\Omega = (0, 1)\n",
        "$$\n",
        "$$\n",
        "u(x) = 0, \\quad\\mathrm{ on }\\ \\partial\\Omega = \\{0, 1\\}\n",
        "$$\n",
        "\n",
        "The physical interpretation of this problem is related to the modelling of an elastic string, which occupies at rest the space $[0,1]$ and is fixed at the two extremes. The unknown $u(x)$ represents the displacement of the string at the point $x$, and the right-hand side models a prescribed force $f(x)$ on the string.\n",
        "\n",
        "For the numerical discretization of the problem, we consider a **Finite Difference (FD) Approximation**. Let $n$ be an integer, a consider a uniform subdivision of the interval $(0,1)$ using $n$ equispaced points, denoted by $\\{x_i\\}_{i=0}^n$ . Moreover, let $u_i$ be the FD approximation of $u(x_i)$, and similarly $f_i \\approx f(x_i)$.\n",
        "\n",
        "In order to formulate the discrete problem, we consider a FD approximation of the left-hand side, as follows:\n",
        "$$\n",
        "-u_{xx}(x_i) \\approx \\frac{-u_{i-1} + 2u_i - u_{i+1}}{h^2}\n",
        "$$\n",
        "being $h = \\frac{1}{n-1}$ the size of each subinterval $(x_i, x_{i+1})$.\n",
        "\n",
        "The problem that we need to solve is\n",
        "$$\n",
        "u_i = 0 \\qquad\\qquad\\qquad\\qquad i=0,\n",
        "$$\n",
        "$$\n",
        "\\frac{-u_{i-1} + 2u_i - u_{i+1}}{h^2} = f_i \\qquad\\qquad\\qquad i=1, \\ldots, n-1,\\qquad\\qquad\\qquad(P)\n",
        "$$\n",
        "$$\n",
        "u_i = 0 \\qquad\\qquad\\qquad\\qquad i=n.\n",
        "$$\n",
        "\n",
        "Then, let us collect al the unknowns $\\{u_i\\}_{i=0}^n$ in a vector $\\mathbf{u}$. Then, (P) is a linear system\n",
        "$$\n",
        "A \\mathbf{u} = \\mathbf{f}.\n",
        "$$\n",
        "\n",
        "In this exercise we will show how to use direct methods to solve linear systems, and in particular we will discuss the **LU** and **Cholesky** decompositions that you have studied in Lecture 07.\n",
        "\n",
        "\n",
        "\n",
        "First of all, let use define $n$ and $\\{x_i\\}_{i=0}^n$."
      ]
    },
    {
      "cell_type": "code",
      "execution_count": 1,
      "metadata": {
        "id": "3CJvM1XidxMG"
      },
      "outputs": [],
      "source": [
        "%matplotlib inline\n",
        "from numpy import *\n",
        "from matplotlib.pyplot import *\n",
        "\n",
        "n = 33\n",
        "h = 1./(n-1)\n",
        "\n",
        "x=linspace(0,1,n)"
      ]
    },
    {
      "cell_type": "markdown",
      "metadata": {
        "id": "Vx6qs2LzdxMH"
      },
      "source": [
        "Let us define the left-hand side matrix $A$."
      ]
    },
    {
      "cell_type": "code",
      "execution_count": 2,
      "metadata": {
        "scrolled": true,
        "id": "ZpNDkkUKdxMI",
        "outputId": "68907352-857c-4838-d9e7-4f658eff8fc2",
        "colab": {
          "base_uri": "https://localhost:8080/"
        }
      },
      "outputs": [
        {
          "output_type": "stream",
          "name": "stdout",
          "text": [
            "[[ 2048. -1024.     0. ...     0.     0.     0.]\n",
            " [-1024.  2048. -1024. ...     0.     0.     0.]\n",
            " [    0. -1024.  2048. ...     0.     0.     0.]\n",
            " ...\n",
            " [    0.     0.     0. ...  2048. -1024.     0.]\n",
            " [    0.     0.     0. ... -1024.  2048. -1024.]\n",
            " [    0.     0.     0. ...     0. -1024.  2048.]]\n",
            "467.8426288390664\n"
          ]
        }
      ],
      "source": [
        "a = -ones((n-1,)) # Offdiagonal entries\n",
        "b = 2*ones((n,)) # Diagonal entries\n",
        "A = (diag(a, -1) + diag(b, 0) + diag(a, +1))\n",
        "A /= h**2\n",
        "\n",
        "print(A)\n",
        "print(linalg.cond(A))"
      ]
    },
    {
      "cell_type": "markdown",
      "metadata": {
        "id": "JPHgktCBdxMK"
      },
      "source": [
        "Moreover, let us choose \n",
        "$$\n",
        "f(x) = x (1-x)\n",
        "$$\n",
        "so that the solution $u(x)$ can be computed analytically as\n",
        "$$\n",
        "u(x) = u_{\\mathrm{ex}}(x) = \\frac{x^4}{12} - \\frac{x^3}{6} +\\frac{x}{12}\n",
        "$$\n",
        "\n",
        "The right hand side $\\mathbf{f}$ then is easily assembled as:"
      ]
    },
    {
      "cell_type": "code",
      "execution_count": 3,
      "metadata": {
        "scrolled": true,
        "id": "5M523hHmdxMM"
      },
      "outputs": [],
      "source": [
        "f = x*(1.-x)"
      ]
    },
    {
      "cell_type": "markdown",
      "metadata": {
        "id": "CY2n9IEIdxMN"
      },
      "source": [
        "We still need to impose the boundary conditions at $x=0$ and $x=1$, which read\n",
        "$$\n",
        "u_i = 0 \\qquad\\qquad\\qquad\\qquad i=0,\n",
        "$$\n",
        "and\n",
        "$$\n",
        "u_i = 0 \\qquad\\qquad\\qquad\\qquad i=n,\n",
        "$$\n",
        "\n",
        "These conditions are associated with the first (last, respectively) row of the linear system.\n",
        "\n",
        "Then we can solve the linear system and compare the FD approximation of $u$ to the exact solution $u_{\\mathrm{ex}}$."
      ]
    },
    {
      "cell_type": "code",
      "execution_count": 4,
      "metadata": {
        "id": "_iVdPztFdxMP",
        "outputId": "3e8f7747-940b-48cd-bef5-6f7e64e8c804",
        "colab": {
          "base_uri": "https://localhost:8080/",
          "height": 265
        }
      },
      "outputs": [
        {
          "output_type": "display_data",
          "data": {
            "image/png": "[encoded data removed]",
            "text/plain": [
              "<Figure size 432x288 with 1 Axes>"
            ]
          },
          "metadata": {
            "needs_background": "light"
          }
        }
      ],
      "source": [
        "# Change first row of the matrix A\n",
        "A[0,:] = 0\n",
        "A[:,0] = 0\n",
        "A[0,0] = 1\n",
        "f[0] = 0\n",
        "\n",
        "# Change last row of the matrix A\n",
        "A[-1,:] = 0\n",
        "A[:,-1] = 0\n",
        "A[-1,-1] = 1\n",
        "f[-1] = 0\n",
        "\n",
        "# Solve the linear system using numpy\n",
        "A1 = A.copy()\n",
        "u = linalg.solve(A1, f)\n",
        "u_ex = (x**4)/12. - (x**3)/6. + x/12.\n",
        "\n",
        "# Plot the FD and exact solution\n",
        "_ = plot(x,u,'ro')\n",
        "_ = plot(x,u_ex)"
      ]
    },
    {
      "cell_type": "markdown",
      "metadata": {
        "id": "FaQenQuKdxMT"
      },
      "source": [
        "## LU decomposition\n",
        "\n",
        "We want to implement our linear solver using an **LU decomposition** (without pivoting)\n",
        "$$\n",
        "A = LU\n",
        "$$\n",
        "\n",
        "LU decomposition can be computed as in the following function."
      ]
    },
    {
      "cell_type": "code",
      "execution_count": 5,
      "metadata": {
        "scrolled": true,
        "id": "M_kvBXK-dxMU"
      },
      "outputs": [],
      "source": [
        "def LU(A):\n",
        "    A = A.copy()\n",
        "    N=len(A)\n",
        "    for k in range(N-1):\n",
        "        if (abs(A[k,k]) < 1e-15):\n",
        "            raise RuntimeError(\"Null pivot\")\n",
        "            \n",
        "        A[k+1:N,k] /= A[k,k]\n",
        "        for j in range(k+1,N):\n",
        "            A[k+1:N,j] -= A[k+1:N,k]*A[k,j]\n",
        "    \n",
        "    L=tril(A)\n",
        "    for i in range(N):\n",
        "        L[i,i]=1.0\n",
        "    U = triu(A)\n",
        "    return L, U\n",
        "\n",
        "L, U = LU(A)"
      ]
    },
    {
      "cell_type": "markdown",
      "metadata": {
        "id": "F7EaWMAkdxMV"
      },
      "source": [
        "Once $L$ and $U$ have been computed, the system\n",
        "$$\n",
        "A\\mathbf{u}=\\mathbf{f}\n",
        "$$\n",
        "can be solved in **two steps**: first solve\n",
        "$$\n",
        "L\\mathbf{w}=\\mathbf{f},\n",
        "$$\n",
        "where $L$ is a **lower triangular matrix**, and then solve\n",
        "$$\n",
        "U\\mathbf{u}=\\mathbf{w}\n",
        "$$\n",
        "where $U$ is an **upper triangular matrix**.\n",
        "\n",
        "These two systems can be easily solved by forward (backward, respectively) substitution."
      ]
    },
    {
      "cell_type": "code",
      "execution_count": 6,
      "metadata": {
        "id": "-DfNTMTAdxMV"
      },
      "outputs": [],
      "source": [
        "def L_solve(L,rhs):\n",
        "    x = zeros_like(rhs)\n",
        "    N = len(L)\n",
        "        \n",
        "    x[0] = rhs[0]/L[0,0]\n",
        "    for i in range(1,N):\n",
        "        x[i] = (rhs[i] - dot(L[i, 0:i], x[0:i]))/L[i,i]\n",
        "    \n",
        "    return x\n"
      ]
    },
    {
      "cell_type": "code",
      "execution_count": 7,
      "metadata": {
        "id": "B-x4Mf8sdxMW"
      },
      "outputs": [],
      "source": [
        "def U_solve(U,rhs):\n",
        "    x = zeros_like(rhs)\n",
        "    N = len(U)\n",
        "\n",
        "    x[-1] = rhs[-1]/L[-1,-1]\n",
        "    for i in reversed(range(N-1)):\n",
        "        x[i] = (rhs[i] - dot(U[i, i+1:N], x[i+1:N]))/U[i,i]\n",
        "\n",
        "    return x"
      ]
    },
    {
      "cell_type": "markdown",
      "metadata": {
        "id": "9tQ7B46rdxMW"
      },
      "source": [
        "Now let's solve the system \n",
        "$$\n",
        "A\\mathbf{u}=\\mathbf{f}\n",
        "$$\n",
        "\n",
        "and compare the solution with respect to the exact solution."
      ]
    },
    {
      "cell_type": "code",
      "execution_count": 8,
      "metadata": {
        "scrolled": true,
        "id": "F1VJdhfxdxMX",
        "outputId": "cc6a87a7-6776-4813-b300-b31b414d6765",
        "colab": {
          "base_uri": "https://localhost:8080/",
          "height": 265
        }
      },
      "outputs": [
        {
          "output_type": "display_data",
          "data": {
            "image/png": "[encoded data removed]",
            "text/plain": [
              "<Figure size 432x288 with 1 Axes>"
            ]
          },
          "metadata": {
            "needs_background": "light"
          }
        }
      ],
      "source": [
        "w = L_solve(L,f)\n",
        "u = U_solve(U,w)\n",
        "\n",
        "_ = plot(x,u,'ro')\n",
        "_ = plot(x,u_ex)"
      ]
    },
    {
      "cell_type": "markdown",
      "metadata": {
        "collapsed": true,
        "id": "2EAPYM2JdxMX"
      },
      "source": [
        "### try to compute the solution $u(x)$ with different forcing terms and compare with the exact solution **without recomputing the LU decomposition**"
      ]
    },
    {
      "cell_type": "code",
      "execution_count": 18,
      "metadata": {
        "id": "_JA5oGpIdxMY",
        "outputId": "6c091792-fe4d-4a6e-d263-0c0eb513031e",
        "colab": {
          "base_uri": "https://localhost:8080/",
          "height": 265
        }
      },
      "outputs": [
        {
          "output_type": "display_data",
          "data": {
            "image/png": "[encoded data removed]",
            "text/plain": [
              "<Figure size 432x288 with 1 Axes>"
            ]
          },
          "metadata": {
            "needs_background": "light"
          }
        }
      ],
      "source": [
        "# YOUR CODE HERE\n",
        "\n",
        "# new forcing term\n",
        "g = (x-5.)*sin(x)\n",
        "g[0] = 0\n",
        "g[-1] = 0\n",
        "\n",
        "# solving the system using the LU decomposition\n",
        "wg = L_solve(L,g)\n",
        "ug = U_solve(U,wg)\n",
        "\n",
        "# plotting\n",
        "_ = plot(x,ug,'ro')"
      ]
    },
    {
      "cell_type": "markdown",
      "metadata": {
        "id": "RCLXt3DzdxMY"
      },
      "source": [
        "## Cholesky decomposition\n",
        "For symmetric and positive define matrices, the Cholesky decomposition may be preferred since it reduces the number of flops for computing the LU decomposition by a factor of 2.\n",
        "\n",
        "The Cholesky decomposotion seeks an upper triangular matrix $H$ (with all positive elements on the diagonal) such that\n",
        "$$\n",
        "A = H^T H\n",
        "$$\n",
        "\n",
        "An implementation of the Cholesky decomposition is provided in the following function. We can use it to solve the linear system by forward and backward substitution."
      ]
    },
    {
      "cell_type": "code",
      "execution_count": 19,
      "metadata": {
        "id": "4JtqvlnPdxMZ",
        "outputId": "da6e2c4f-b399-41e4-c478-73148741fae4",
        "colab": {
          "base_uri": "https://localhost:8080/",
          "height": 265
        }
      },
      "outputs": [
        {
          "output_type": "display_data",
          "data": {
            "image/png": "[encoded data removed]",
            "text/plain": [
              "<Figure size 432x288 with 1 Axes>"
            ]
          },
          "metadata": {
            "needs_background": "light"
          }
        }
      ],
      "source": [
        "def cholesky(A):\n",
        "    A = A.copy()\n",
        "    N = len(A)\n",
        "    for k in range(N-1):\n",
        "        A[k,k] = sqrt(A[k,k])\n",
        "        A[k+1:N,k] = A[k+1:N,k]/A[k,k]\n",
        "        \n",
        "        for j in range(k+1,N):\n",
        "            A[j:N,j] = A[j:N,j] - A[j:N,k]*A[j,k]\n",
        "        \n",
        "    A[-1,-1] = sqrt(A[-1,-1])\n",
        "    L=tril(A)\n",
        "    return L, L.transpose()\n",
        "\n",
        "\n",
        "HT, H = cholesky(A)\n",
        "y = L_solve(HT,f)\n",
        "u = U_solve(H,y)\n",
        "\n",
        "\n",
        "_ = plot(x,u,'ro')\n",
        "_ = plot(x,u_ex)"
      ]
    },
    {
      "cell_type": "code",
      "source": [
        ""
      ],
      "metadata": {
        "id": "9gS1w3el0yrn"
      },
      "execution_count": null,
      "outputs": []
    }
  ],
  "metadata": {
    "anaconda-cloud": {},
    "kernelspec": {
      "display_name": "Python 3 (ipykernel)",
      "language": "python",
      "name": "python3"
    },
    "language_info": {
      "codemirror_mode": {
        "name": "ipython",
        "version": 3
      },
      "file_extension": ".py",
      "mimetype": "text/x-python",
      "name": "python",
      "nbconvert_exporter": "python",
      "pygments_lexer": "ipython3",
      "version": "3.9.7"
    },
    "colab": {
      "name": "GR_lab03a_linear_systems_direct_1.ipynb",
      "provenance": []
    }
  },
  "nbformat": 4,
  "nbformat_minor": 0
}