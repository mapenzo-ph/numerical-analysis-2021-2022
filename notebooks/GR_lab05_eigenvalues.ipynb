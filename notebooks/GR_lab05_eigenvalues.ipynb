{
  "cells": [
    {
      "cell_type": "markdown",
      "metadata": {
        "id": "p5f2AB7QKlzx"
      },
      "source": [
        "# Eigenvalue and eigenvectors calculation\n",
        "\n",
        "$$\n",
        "A\\mathbf{x} = \\lambda \\mathbf{x}\n",
        "$$\n",
        "\n",
        "### Power method (vector iteration)\n",
        "- find the largest eigenvalue $\\lambda_{max}$\n",
        "\\begin{align}\n",
        "\\mathbf{q}_k & = \\frac{\\mathbf{z}_{k-1}}{\\|\\mathbf{z}_{k-1}\\|_2}\\\\\n",
        "\\mathbf{z}_k & = A\\mathbf{q}_{k}\\\\\n",
        "\\lambda_{max}^k & = \\mathbf{q}^T_k \\mathbf{z}_k\n",
        "\\end{align}"
      ]
    },
    {
      "cell_type": "code",
      "execution_count": 2,
      "metadata": {
        "id": "Ne6Px5BwKlz-"
      },
      "outputs": [],
      "source": [
        "%matplotlib inline\n",
        "from numpy import *\n",
        "from matplotlib.pyplot import *\n",
        "import numpy.linalg\n",
        "import scipy.linalg"
      ]
    },
    {
      "cell_type": "code",
      "source": [
        "n = 9\n",
        "h = 1./(n-1)\n",
        "x=linspace(0,1,n)\n",
        "\n",
        "# construct matrix\n",
        "a = -ones((n-1,))\n",
        "b = 2*ones((n,))\n",
        "A = (diag(a, -1) + diag(b, 0) + diag(a, +1))\n",
        "A /= h**2\n",
        "\n",
        "#print A"
      ],
      "metadata": {
        "id": "Nxp7KrpIQP8N"
      },
      "execution_count": 4,
      "outputs": []
    },
    {
      "cell_type": "code",
      "source": [
        "z0 = ones_like(x) # starting \n",
        "\n",
        "def PM(A, z0, tol=1e-5, nmax=500):\n",
        "    q = z0/numpy.linalg.norm(z0,2)\n",
        "    it = 0\n",
        "    err = tol + 1.\n",
        "    while (it < nmax and err > tol):\n",
        "        z = dot(A,q)\n",
        "        l = dot(q.T,z)\n",
        "        err = numpy.linalg.norm(z-l*q,2)\n",
        "        q = z/numpy.linalg.norm(z,2)\n",
        "        \n",
        "        it += 1\n",
        "    print(\"error =\", err, \"iterations =\", it)\n",
        "    print(\"lambda_max =\", l)\n",
        "    return l,q\n",
        "\n",
        "l,x = PM(A,z0)   \n",
        "l_np, x_np = numpy.linalg.eig(A)\n",
        "\n",
        "print(\"numpy\")\n",
        "print(l_np)"
      ],
      "metadata": {
        "id": "l65JudqFQIdl",
        "outputId": "fd2c5d0d-8866-450f-d40d-9b3a2792e1f7",
        "colab": {
          "base_uri": "https://localhost:8080/"
        }
      },
      "execution_count": 5,
      "outputs": [
        {
          "output_type": "stream",
          "name": "stdout",
          "text": [
            "error = 8.456086478475517e-06 iterations = 82\n",
            "lambda_max = 249.73523408577807\n",
            "numpy\n",
            "[249.73523409 231.55417528 203.23651229 167.55417528 128.\n",
            "   6.26476591  24.44582472  88.44582472  52.76348771]\n"
          ]
        }
      ]
    },
    {
      "cell_type": "markdown",
      "metadata": {
        "id": "AeKvqoVxKl0B"
      },
      "source": [
        "### Inverse power method\n",
        "- find the eigenvalue $\\lambda$ **closest** to $\\mu$\n",
        "\\begin{align}\n",
        "M & = A-\\mu I\\\\\n",
        "M & = LU \\\\\n",
        "& \\\\\n",
        "M\\mathbf{x}_k &= \\mathbf q_{k-1}\\\\\n",
        "\\mathbf{q}_k & = \\frac{\\mathbf{x}_k}{\\|\\mathbf{x}_k\\|_2}\\\\\n",
        "\\mathbf{z}_k & = A\\mathbf{q}_{k}\\\\\n",
        "\\lambda^k & = \\mathbf{q}^T_k \\mathbf{z}_k\n",
        "\\end{align}\n"
      ]
    },
    {
      "cell_type": "code",
      "execution_count": 7,
      "metadata": {
        "id": "olyZGINtKl0C",
        "outputId": "e349de33-6973-4817-a6a1-a1c7cb5fd1e2",
        "colab": {
          "base_uri": "https://localhost:8080/"
        }
      },
      "outputs": [
        {
          "output_type": "stream",
          "name": "stdout",
          "text": [
            "error = 2.6310164587523326e-06 iterations = 3\n",
            "lambda = 6.2647659142204954\n"
          ]
        }
      ],
      "source": [
        "def IPM(A, x0, mu, tol=1e-5, nmax=500):\n",
        "    M = A - mu*eye(len(A))\n",
        "    P,L,U = scipy.linalg.lu(M)\n",
        "    err = tol + 1.\n",
        "    it = 0\n",
        "    q = x0/numpy.linalg.norm(x0,2)\n",
        "    while (it < nmax and err > tol):\n",
        "        y = scipy.linalg.solve_triangular(L, dot(P.T,q), lower=True)\n",
        "        x = scipy.linalg.solve_triangular(U, y)\n",
        "        q = x/numpy.linalg.norm(x,2)\n",
        "        z = dot(A,q)\n",
        "        l = dot(q.T,z)\n",
        "        err = numpy.linalg.norm(z-l*q,2)\n",
        "        it += 1\n",
        "    print(\"error =\", err, \"iterations =\", it)\n",
        "    print(\"lambda =\", l)\n",
        "    return l,q\n",
        "\n",
        "\n",
        "l,x = IPM(A,z0,6.)"
      ]
    }
  ],
  "metadata": {
    "anaconda-cloud": {},
    "kernelspec": {
      "display_name": "Python 3",
      "language": "python",
      "name": "python3"
    },
    "language_info": {
      "codemirror_mode": {
        "name": "ipython",
        "version": 3
      },
      "file_extension": ".py",
      "mimetype": "text/x-python",
      "name": "python",
      "nbconvert_exporter": "python",
      "pygments_lexer": "ipython3",
      "version": "3.6.4"
    },
    "colab": {
      "name": "GR_lab05_eigenvalues.ipynb",
      "provenance": []
    }
  },
  "nbformat": 4,
  "nbformat_minor": 0
}