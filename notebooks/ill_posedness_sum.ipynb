{
 "cells": [
  {
   "cell_type": "code",
   "execution_count": 32,
   "id": "83b9f399",
   "metadata": {},
   "outputs": [
    {
     "name": "stdout",
     "output_type": "stream",
     "text": [
      "Populating the interactive namespace from numpy and matplotlib\n"
     ]
    },
    {
     "name": "stderr",
     "output_type": "stream",
     "text": [
      "/usr/local/lib/python3.9/site-packages/IPython/core/magics/pylab.py:159: UserWarning: pylab import has clobbered these variables: ['beta', 'take', 'vectorize', 'sinh', 'conjugate', 'sinc', 'maximum', 'tanh', 'exp', 'floor', 'trunc', 'roots', 'binomial', 'gamma', 'seterr', 'test', 'poly', 'transpose', 'log', 'minimum', 'gcd', 'cbrt', 'trace', 'diag', 'cosh', 'det', 'plot', 'prod', 'plotting', 'lcm', 'partition', 'var', 'fft', 'interactive', 'flatten', 'reshape', 'solve', 'source', 'product', 'diff', 'Line2D', 'cos', 'zeros', 'tan', 'Number', 'shape', 'sqrt', 'pi', 'sign', 'invert', 're', 'Circle', 'nan', 'eye', 'Polygon', 'sin', 'ones', 'ifft']\n",
      "`%matplotlib` prevents importing * from pylab and numpy\n",
      "  warn(\"pylab import has clobbered these variables: %s\"  % clobbered +\n"
     ]
    }
   ],
   "source": [
    "%pylab inline"
   ]
  },
  {
   "cell_type": "code",
   "execution_count": 22,
   "id": "82924122",
   "metadata": {},
   "outputs": [],
   "source": [
    "from sympy import *"
   ]
  },
  {
   "cell_type": "code",
   "execution_count": 23,
   "id": "7cef1fd2",
   "metadata": {},
   "outputs": [],
   "source": [
    "x,y = var('x,y')"
   ]
  },
  {
   "cell_type": "code",
   "execution_count": 24,
   "id": "1c76e475",
   "metadata": {},
   "outputs": [],
   "source": [
    "y = (1-x)**6"
   ]
  },
  {
   "cell_type": "code",
   "execution_count": 25,
   "id": "f1de4080",
   "metadata": {},
   "outputs": [
    {
     "data": {
      "text/latex": [
       "$\\displaystyle \\left(1 - x\\right)^{6}$"
      ],
      "text/plain": [
       "(1 - x)**6"
      ]
     },
     "execution_count": 25,
     "metadata": {},
     "output_type": "execute_result"
    }
   ],
   "source": [
    "y"
   ]
  },
  {
   "cell_type": "code",
   "execution_count": 26,
   "id": "da02a83f",
   "metadata": {},
   "outputs": [],
   "source": [
    "g = y.expand()"
   ]
  },
  {
   "cell_type": "code",
   "execution_count": 27,
   "id": "1a709f45",
   "metadata": {},
   "outputs": [
    {
     "data": {
      "text/latex": [
       "$\\displaystyle x^{6} - 6 x^{5} + 15 x^{4} - 20 x^{3} + 15 x^{2} - 6 x + 1$"
      ],
      "text/plain": [
       "x**6 - 6*x**5 + 15*x**4 - 20*x**3 + 15*x**2 - 6*x + 1"
      ]
     },
     "execution_count": 27,
     "metadata": {},
     "output_type": "execute_result"
    }
   ],
   "source": [
    "g"
   ]
  },
  {
   "cell_type": "code",
   "execution_count": 28,
   "id": "ee2a6faa",
   "metadata": {},
   "outputs": [],
   "source": [
    "x = linspace(0.995, 1, 101)"
   ]
  },
  {
   "cell_type": "code",
   "execution_count": 29,
   "id": "3f959e1c",
   "metadata": {},
   "outputs": [],
   "source": [
    "y = (1-x)**6"
   ]
  },
  {
   "cell_type": "code",
   "execution_count": 30,
   "id": "8be6b29b",
   "metadata": {},
   "outputs": [],
   "source": [
    "g = x**6 - 6*x**5 + 15*x**4 -20*x**3 +15*x**2 -6*x +1 "
   ]
  },
  {
   "cell_type": "code",
   "execution_count": 33,
   "id": "87fef58f",
   "metadata": {},
   "outputs": [
    {
     "data": {
      "text/plain": [
       "[<matplotlib.lines.Line2D at 0x14321c100>]"
      ]
     },
     "execution_count": 33,
     "metadata": {},
     "output_type": "execute_result"
    },
    {
     "data": {
      "image/png": "[encoded data removed]",
      "text/plain": [
       "<Figure size 432x288 with 1 Axes>"
      ]
     },
     "metadata": {
      "needs_background": "light"
     },
     "output_type": "display_data"
    }
   ],
   "source": [
    "plot(x,y)\n",
    "plot(x,g)"
   ]
  },
  {
   "cell_type": "code",
   "execution_count": null,
   "id": "4c53da91",
   "metadata": {},
   "outputs": [],
   "source": []
  }
 ],
 "metadata": {
  "kernelspec": {
   "display_name": "Python 3 (ipykernel)",
   "language": "python",
   "name": "python3"
  },
  "language_info": {
   "codemirror_mode": {
    "name": "ipython",
    "version": 3
   },
   "file_extension": ".py",
   "mimetype": "text/x-python",
   "name": "python",
   "nbconvert_exporter": "python",
   "pygments_lexer": "ipython3",
   "version": "3.9.7"
  }
 },
 "nbformat": 4,
 "nbformat_minor": 5
}
